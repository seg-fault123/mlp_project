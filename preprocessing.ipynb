{
 "cells": [
  {
   "cell_type": "code",
   "execution_count": 1,
   "metadata": {},
   "outputs": [],
   "source": [
    "# # This Python 3 environment comes with many helpful analytics libraries installed\n",
    "# # It is defined by the kaggle/python Docker image: https://github.com/kaggle/docker-python\n",
    "# # For example, here's several helpful packages to load\n",
    "\n",
    "# import numpy as np # linear algebra\n",
    "# import pandas as pd # data processing, CSV file I/O (e.g. pd.read_csv)\n",
    "\n",
    "# # Input data files are available in the read-only \"../input/\" directory\n",
    "# # For example, running this (by clicking run or pressing Shift+Enter) will list all files under the input directory\n",
    "\n",
    "# import os\n",
    "# for dirname, _, filenames in os.walk('/kaggle/input'):\n",
    "#     for filename in filenames:\n",
    "#         print(os.path.join(dirname, filename))\n",
    "\n",
    "# # You can write up to 20GB to the current directory (/kaggle/working/) that gets preserved as output when you create a version using \"Save & Run All\" \n",
    "# # You can also write temporary files to /kaggle/temp/, but they won't be saved outside of the current session"
   ]
  },
  {
   "cell_type": "markdown",
   "metadata": {},
   "source": [
    "## Imports"
   ]
  },
  {
   "cell_type": "code",
   "execution_count": 2,
   "metadata": {},
   "outputs": [],
   "source": [
    "import numpy as np\n",
    "import pandas as pd"
   ]
  },
  {
   "cell_type": "code",
   "execution_count": 3,
   "metadata": {},
   "outputs": [],
   "source": [
    "# imports\n",
    "from sklearn.svm import SVC\n",
    "from sklearn.dummy import DummyClassifier\n",
    "from sklearn.feature_extraction.text import CountVectorizer\n",
    "from sklearn.preprocessing import StandardScaler, OneHotEncoder,FunctionTransformer\n",
    "from sklearn.impute import SimpleImputer\n",
    "from sklearn.pipeline import Pipeline\n",
    "from sklearn.compose import ColumnTransformer\n",
    "from sklearn.model_selection import GridSearchCV, cross_val_score\n",
    "from sklearn.decomposition import PCA\n",
    "from sklearn.metrics import ConfusionMatrixDisplay, classification_report, accuracy_score\n",
    "import matplotlib.pyplot as plt\n",
    "import seaborn as sns\n",
    "sns.set()"
   ]
  },
  {
   "cell_type": "markdown",
   "metadata": {},
   "source": [
    "## Loading training and testing data"
   ]
  },
  {
   "cell_type": "code",
   "execution_count": 4,
   "metadata": {},
   "outputs": [],
   "source": [
    "train_data=pd.read_csv('train.csv')\n",
    "test_data=pd.read_csv('test.csv')\n",
    "# train_data=pd.read_csv('/kaggle/input/recipe-for-rating-predict-food-ratings-using-ml/train.csv')\n",
    "# test_data=pd.read_csv('/kaggle/input/recipe-for-rating-predict-food-ratings-using-ml/test.csv')"
   ]
  },
  {
   "cell_type": "markdown",
   "metadata": {},
   "source": [
    "## To Do:-\n",
    "1) Add Day and Hour to the dataset\n",
    "2) Apply Simple Imputer\n",
    "3) One Hot encode the Day Column\n",
    "3) Apply Count Vectorizer to the text columns\n",
    "4) Apply Standard Scaler\n",
    "5) Apply Logistic Regression"
   ]
  },
  {
   "cell_type": "code",
   "execution_count": 5,
   "metadata": {},
   "outputs": [
    {
     "data": {
      "text/plain": [
       "Index(['ID', 'RecipeNumber', 'RecipeCode', 'RecipeName', 'CommentID', 'UserID',\n",
       "       'UserName', 'UserReputation', 'CreationTimestamp', 'ReplyCount',\n",
       "       'ThumbsUpCount', 'ThumbsDownCount', 'Rating', 'BestScore',\n",
       "       'Recipe_Review'],\n",
       "      dtype='object')"
      ]
     },
     "execution_count": 5,
     "metadata": {},
     "output_type": "execute_result"
    }
   ],
   "source": [
    "train_data.columns"
   ]
  },
  {
   "cell_type": "code",
   "execution_count": 6,
   "metadata": {},
   "outputs": [],
   "source": [
    "def add_features(X):\n",
    "    X['Date']=pd.to_datetime(X['CreationTimestamp'], unit='s')\n",
    "    X['Day']=X['Date'].dt.day_name()\n",
    "    X['Hour']=X['Date'].apply(lambda x: x.hour + x.minute/60)\n",
    "    return X\n",
    "\n",
    "train_data=add_features(train_data)\n",
    "test_data=add_features(test_data)\n"
   ]
  },
  {
   "cell_type": "code",
   "execution_count": 7,
   "metadata": {},
   "outputs": [
    {
     "data": {
      "text/plain": [
       "Index(['ID', 'RecipeNumber', 'RecipeCode', 'RecipeName', 'CommentID', 'UserID',\n",
       "       'UserName', 'UserReputation', 'CreationTimestamp', 'ReplyCount',\n",
       "       'ThumbsUpCount', 'ThumbsDownCount', 'Rating', 'BestScore',\n",
       "       'Recipe_Review', 'Date', 'Day', 'Hour'],\n",
       "      dtype='object')"
      ]
     },
     "execution_count": 7,
     "metadata": {},
     "output_type": "execute_result"
    }
   ],
   "source": [
    "train_data.columns"
   ]
  },
  {
   "cell_type": "code",
   "execution_count": 8,
   "metadata": {},
   "outputs": [],
   "source": [
    "X_train, y_train=train_data.drop('Rating', axis=1), train_data['Rating']"
   ]
  },
  {
   "cell_type": "code",
   "execution_count": 9,
   "metadata": {},
   "outputs": [
    {
     "data": {
      "text/html": [
       "<div>\n",
       "<style scoped>\n",
       "    .dataframe tbody tr th:only-of-type {\n",
       "        vertical-align: middle;\n",
       "    }\n",
       "\n",
       "    .dataframe tbody tr th {\n",
       "        vertical-align: top;\n",
       "    }\n",
       "\n",
       "    .dataframe thead th {\n",
       "        text-align: right;\n",
       "    }\n",
       "</style>\n",
       "<table border=\"1\" class=\"dataframe\">\n",
       "  <thead>\n",
       "    <tr style=\"text-align: right;\">\n",
       "      <th></th>\n",
       "      <th>RecipeName</th>\n",
       "      <th>RecipeCode</th>\n",
       "    </tr>\n",
       "    <tr>\n",
       "      <th>RecipeNumber</th>\n",
       "      <th></th>\n",
       "      <th></th>\n",
       "    </tr>\n",
       "  </thead>\n",
       "  <tbody>\n",
       "    <tr>\n",
       "      <th>71</th>\n",
       "      <td>Banana Bars with Cream Cheese Frosting</td>\n",
       "      <td>12259</td>\n",
       "    </tr>\n",
       "    <tr>\n",
       "      <th>88</th>\n",
       "      <td>Simple Taco Soup</td>\n",
       "      <td>8202</td>\n",
       "    </tr>\n",
       "    <tr>\n",
       "      <th>3</th>\n",
       "      <td>Cheeseburger Soup</td>\n",
       "      <td>2832</td>\n",
       "    </tr>\n",
       "    <tr>\n",
       "      <th>50</th>\n",
       "      <td>Grilled Huli Huli Chicken</td>\n",
       "      <td>100276</td>\n",
       "    </tr>\n",
       "    <tr>\n",
       "      <th>12</th>\n",
       "      <td>Cauliflower Soup</td>\n",
       "      <td>19731</td>\n",
       "    </tr>\n",
       "  </tbody>\n",
       "</table>\n",
       "</div>"
      ],
      "text/plain": [
       "                                          RecipeName  RecipeCode\n",
       "RecipeNumber                                                    \n",
       "71            Banana Bars with Cream Cheese Frosting       12259\n",
       "88                                  Simple Taco Soup        8202\n",
       "3                                  Cheeseburger Soup        2832\n",
       "50                         Grilled Huli Huli Chicken      100276\n",
       "12                                  Cauliflower Soup       19731"
      ]
     },
     "execution_count": 9,
     "metadata": {},
     "output_type": "execute_result"
    }
   ],
   "source": [
    "recipe_df=train_data[['RecipeNumber', 'RecipeName', 'RecipeCode']].copy()\n",
    "recipe_df.set_index('RecipeNumber', inplace=True)\n",
    "recipe_df.drop_duplicates(inplace=True)\n",
    "recipe_df.head()"
   ]
  },
  {
   "cell_type": "code",
   "execution_count": 10,
   "metadata": {},
   "outputs": [
    {
     "data": {
      "text/plain": [
       "Index(['ID', 'RecipeNumber', 'RecipeCode', 'RecipeName', 'CommentID', 'UserID',\n",
       "       'UserName', 'UserReputation', 'CreationTimestamp', 'ReplyCount',\n",
       "       'ThumbsUpCount', 'ThumbsDownCount', 'BestScore', 'Recipe_Review',\n",
       "       'Date', 'Day', 'Hour'],\n",
       "      dtype='object')"
      ]
     },
     "execution_count": 10,
     "metadata": {},
     "output_type": "execute_result"
    }
   ],
   "source": [
    "X_train.columns"
   ]
  },
  {
   "cell_type": "code",
   "execution_count": 11,
   "metadata": {},
   "outputs": [
    {
     "data": {
      "text/html": [
       "<div>\n",
       "<style scoped>\n",
       "    .dataframe tbody tr th:only-of-type {\n",
       "        vertical-align: middle;\n",
       "    }\n",
       "\n",
       "    .dataframe tbody tr th {\n",
       "        vertical-align: top;\n",
       "    }\n",
       "\n",
       "    .dataframe thead th {\n",
       "        text-align: right;\n",
       "    }\n",
       "</style>\n",
       "<table border=\"1\" class=\"dataframe\">\n",
       "  <thead>\n",
       "    <tr style=\"text-align: right;\">\n",
       "      <th></th>\n",
       "      <th>ID</th>\n",
       "      <th>RecipeNumber</th>\n",
       "      <th>RecipeCode</th>\n",
       "      <th>RecipeName</th>\n",
       "      <th>CommentID</th>\n",
       "      <th>UserID</th>\n",
       "      <th>UserName</th>\n",
       "      <th>UserReputation</th>\n",
       "      <th>CreationTimestamp</th>\n",
       "      <th>ReplyCount</th>\n",
       "      <th>ThumbsUpCount</th>\n",
       "      <th>ThumbsDownCount</th>\n",
       "      <th>BestScore</th>\n",
       "      <th>Recipe_Review</th>\n",
       "      <th>Date</th>\n",
       "      <th>Day</th>\n",
       "      <th>Hour</th>\n",
       "    </tr>\n",
       "  </thead>\n",
       "  <tbody>\n",
       "    <tr>\n",
       "      <th>0</th>\n",
       "      <td>70</td>\n",
       "      <td>71</td>\n",
       "      <td>12259</td>\n",
       "      <td>Banana Bars with Cream Cheese Frosting</td>\n",
       "      <td>sp_aUSaElGf_12259_c_149978</td>\n",
       "      <td>u_1oKVaBmiEKwAFyiHrDLoWpbel0J</td>\n",
       "      <td>misscoffeepot</td>\n",
       "      <td>20</td>\n",
       "      <td>1622717078</td>\n",
       "      <td>0</td>\n",
       "      <td>0</td>\n",
       "      <td>0</td>\n",
       "      <td>100</td>\n",
       "      <td>great recipe! I have made them just as written...</td>\n",
       "      <td>2021-06-03 10:44:38</td>\n",
       "      <td>Thursday</td>\n",
       "      <td>10.733333</td>\n",
       "    </tr>\n",
       "    <tr>\n",
       "      <th>1</th>\n",
       "      <td>72</td>\n",
       "      <td>88</td>\n",
       "      <td>8202</td>\n",
       "      <td>Simple Taco Soup</td>\n",
       "      <td>sp_aUSaElGf_8202_c_310332</td>\n",
       "      <td>u_1oKZeRIXYzGNhGW8OMR3O4lX1ih</td>\n",
       "      <td>MichelleMalone</td>\n",
       "      <td>1</td>\n",
       "      <td>1622717852</td>\n",
       "      <td>0</td>\n",
       "      <td>0</td>\n",
       "      <td>1</td>\n",
       "      <td>100</td>\n",
       "      <td>This is an easy and quick recipe that is great...</td>\n",
       "      <td>2021-06-03 10:57:32</td>\n",
       "      <td>Thursday</td>\n",
       "      <td>10.950000</td>\n",
       "    </tr>\n",
       "    <tr>\n",
       "      <th>2</th>\n",
       "      <td>458</td>\n",
       "      <td>3</td>\n",
       "      <td>2832</td>\n",
       "      <td>Cheeseburger Soup</td>\n",
       "      <td>sp_aUSaElGf_2832_c_206522</td>\n",
       "      <td>u_1oKYHUtdaD48KJCDYq5wfpAUxWz</td>\n",
       "      <td>jeannem32</td>\n",
       "      <td>1</td>\n",
       "      <td>1622717357</td>\n",
       "      <td>0</td>\n",
       "      <td>0</td>\n",
       "      <td>0</td>\n",
       "      <td>100</td>\n",
       "      <td>I think I was looking for something extra spec...</td>\n",
       "      <td>2021-06-03 10:49:17</td>\n",
       "      <td>Thursday</td>\n",
       "      <td>10.816667</td>\n",
       "    </tr>\n",
       "    <tr>\n",
       "      <th>3</th>\n",
       "      <td>7</td>\n",
       "      <td>50</td>\n",
       "      <td>100276</td>\n",
       "      <td>Grilled Huli Huli Chicken</td>\n",
       "      <td>sp_aUSaElGf_100276_c_434088</td>\n",
       "      <td>u_1oKZCQcKQZdQhDVBS7oISc216VA</td>\n",
       "      <td>ds422</td>\n",
       "      <td>1</td>\n",
       "      <td>1622648899</td>\n",
       "      <td>0</td>\n",
       "      <td>0</td>\n",
       "      <td>0</td>\n",
       "      <td>100</td>\n",
       "      <td>This is our favorite grilled chicken recipe.  ...</td>\n",
       "      <td>2021-06-02 15:48:19</td>\n",
       "      <td>Wednesday</td>\n",
       "      <td>15.800000</td>\n",
       "    </tr>\n",
       "    <tr>\n",
       "      <th>4</th>\n",
       "      <td>60</td>\n",
       "      <td>12</td>\n",
       "      <td>19731</td>\n",
       "      <td>Cauliflower Soup</td>\n",
       "      <td>sp_aUSaElGf_19731_c_387011</td>\n",
       "      <td>u_1oKd4sudZQPgu6YALiC7bW7mKMs</td>\n",
       "      <td>SusanHoward</td>\n",
       "      <td>1</td>\n",
       "      <td>1622718260</td>\n",
       "      <td>0</td>\n",
       "      <td>0</td>\n",
       "      <td>0</td>\n",
       "      <td>100</td>\n",
       "      <td>Great basic recipe. I added 2 teaspoons Tuscan...</td>\n",
       "      <td>2021-06-03 11:04:20</td>\n",
       "      <td>Thursday</td>\n",
       "      <td>11.066667</td>\n",
       "    </tr>\n",
       "  </tbody>\n",
       "</table>\n",
       "</div>"
      ],
      "text/plain": [
       "    ID  RecipeNumber  RecipeCode                              RecipeName  \\\n",
       "0   70            71       12259  Banana Bars with Cream Cheese Frosting   \n",
       "1   72            88        8202                        Simple Taco Soup   \n",
       "2  458             3        2832                       Cheeseburger Soup   \n",
       "3    7            50      100276               Grilled Huli Huli Chicken   \n",
       "4   60            12       19731                        Cauliflower Soup   \n",
       "\n",
       "                     CommentID                         UserID        UserName  \\\n",
       "0   sp_aUSaElGf_12259_c_149978  u_1oKVaBmiEKwAFyiHrDLoWpbel0J   misscoffeepot   \n",
       "1    sp_aUSaElGf_8202_c_310332  u_1oKZeRIXYzGNhGW8OMR3O4lX1ih  MichelleMalone   \n",
       "2    sp_aUSaElGf_2832_c_206522  u_1oKYHUtdaD48KJCDYq5wfpAUxWz       jeannem32   \n",
       "3  sp_aUSaElGf_100276_c_434088  u_1oKZCQcKQZdQhDVBS7oISc216VA           ds422   \n",
       "4   sp_aUSaElGf_19731_c_387011  u_1oKd4sudZQPgu6YALiC7bW7mKMs     SusanHoward   \n",
       "\n",
       "   UserReputation  CreationTimestamp  ReplyCount  ThumbsUpCount  \\\n",
       "0              20         1622717078           0              0   \n",
       "1               1         1622717852           0              0   \n",
       "2               1         1622717357           0              0   \n",
       "3               1         1622648899           0              0   \n",
       "4               1         1622718260           0              0   \n",
       "\n",
       "   ThumbsDownCount  BestScore  \\\n",
       "0                0        100   \n",
       "1                1        100   \n",
       "2                0        100   \n",
       "3                0        100   \n",
       "4                0        100   \n",
       "\n",
       "                                       Recipe_Review                Date  \\\n",
       "0  great recipe! I have made them just as written... 2021-06-03 10:44:38   \n",
       "1  This is an easy and quick recipe that is great... 2021-06-03 10:57:32   \n",
       "2  I think I was looking for something extra spec... 2021-06-03 10:49:17   \n",
       "3  This is our favorite grilled chicken recipe.  ... 2021-06-02 15:48:19   \n",
       "4  Great basic recipe. I added 2 teaspoons Tuscan... 2021-06-03 11:04:20   \n",
       "\n",
       "         Day       Hour  \n",
       "0   Thursday  10.733333  \n",
       "1   Thursday  10.950000  \n",
       "2   Thursday  10.816667  \n",
       "3  Wednesday  15.800000  \n",
       "4   Thursday  11.066667  "
      ]
     },
     "execution_count": 11,
     "metadata": {},
     "output_type": "execute_result"
    }
   ],
   "source": [
    "X_train.head()"
   ]
  },
  {
   "cell_type": "code",
   "execution_count": 12,
   "metadata": {},
   "outputs": [
    {
     "data": {
      "text/plain": [
       "ID                            int64\n",
       "RecipeNumber                  int64\n",
       "RecipeCode                    int64\n",
       "RecipeName                   object\n",
       "CommentID                    object\n",
       "UserID                       object\n",
       "UserName                     object\n",
       "UserReputation                int64\n",
       "CreationTimestamp             int64\n",
       "ReplyCount                    int64\n",
       "ThumbsUpCount                 int64\n",
       "ThumbsDownCount               int64\n",
       "BestScore                     int64\n",
       "Recipe_Review                object\n",
       "Date                 datetime64[ns]\n",
       "Day                          object\n",
       "Hour                        float64\n",
       "dtype: object"
      ]
     },
     "execution_count": 12,
     "metadata": {},
     "output_type": "execute_result"
    }
   ],
   "source": [
    "X_train.dtypes"
   ]
  },
  {
   "cell_type": "markdown",
   "metadata": {},
   "source": [
    "## SVM"
   ]
  },
  {
   "cell_type": "code",
   "execution_count": 22,
   "metadata": {},
   "outputs": [],
   "source": [
    "col_transform=ColumnTransformer([('pass', 'passthrough', ['RecipeNumber', 'RecipeCode', 'UserReputation',\n",
    "                                                          'ReplyCount', 'ThumbsUpCount', 'ThumbsDownCount',\n",
    "                                                          'BestScore']),\n",
    "                                 ('vect2', CountVectorizer(stop_words='english', max_features=2000), 'Recipe_Review')], n_jobs=-1)\n",
    "\n",
    "pipeline=Pipeline([('imputer', SimpleImputer(fill_value='No_Review', strategy='constant').set_output(transform='pandas')),\n",
    "                           ('col_transform', col_transform),\n",
    "                           ('dense', FunctionTransformer(lambda x: x.toarray(), accept_sparse=True)),\n",
    "                           ('scaler', StandardScaler()),\n",
    "                        #    ('pca', PCA(n_components=0.95, svd_solver='full')),\n",
    "                           ('clsf', SVC(max_iter=500, kernel='linear'))])\n",
    "                           \n"
   ]
  },
  {
   "cell_type": "code",
   "execution_count": 27,
   "metadata": {},
   "outputs": [
    {
     "name": "stdout",
     "output_type": "stream",
     "text": [
      "\u001b[1;31mInit signature:\u001b[0m\n",
      "\u001b[0mPCA\u001b[0m\u001b[1;33m(\u001b[0m\u001b[1;33m\n",
      "\u001b[0m    \u001b[0mn_components\u001b[0m\u001b[1;33m=\u001b[0m\u001b[1;32mNone\u001b[0m\u001b[1;33m,\u001b[0m\u001b[1;33m\n",
      "\u001b[0m    \u001b[1;33m*\u001b[0m\u001b[1;33m,\u001b[0m\u001b[1;33m\n",
      "\u001b[0m    \u001b[0mcopy\u001b[0m\u001b[1;33m=\u001b[0m\u001b[1;32mTrue\u001b[0m\u001b[1;33m,\u001b[0m\u001b[1;33m\n",
      "\u001b[0m    \u001b[0mwhiten\u001b[0m\u001b[1;33m=\u001b[0m\u001b[1;32mFalse\u001b[0m\u001b[1;33m,\u001b[0m\u001b[1;33m\n",
      "\u001b[0m    \u001b[0msvd_solver\u001b[0m\u001b[1;33m=\u001b[0m\u001b[1;34m'auto'\u001b[0m\u001b[1;33m,\u001b[0m\u001b[1;33m\n",
      "\u001b[0m    \u001b[0mtol\u001b[0m\u001b[1;33m=\u001b[0m\u001b[1;36m0.0\u001b[0m\u001b[1;33m,\u001b[0m\u001b[1;33m\n",
      "\u001b[0m    \u001b[0miterated_power\u001b[0m\u001b[1;33m=\u001b[0m\u001b[1;34m'auto'\u001b[0m\u001b[1;33m,\u001b[0m\u001b[1;33m\n",
      "\u001b[0m    \u001b[0mn_oversamples\u001b[0m\u001b[1;33m=\u001b[0m\u001b[1;36m10\u001b[0m\u001b[1;33m,\u001b[0m\u001b[1;33m\n",
      "\u001b[0m    \u001b[0mpower_iteration_normalizer\u001b[0m\u001b[1;33m=\u001b[0m\u001b[1;34m'auto'\u001b[0m\u001b[1;33m,\u001b[0m\u001b[1;33m\n",
      "\u001b[0m    \u001b[0mrandom_state\u001b[0m\u001b[1;33m=\u001b[0m\u001b[1;32mNone\u001b[0m\u001b[1;33m,\u001b[0m\u001b[1;33m\n",
      "\u001b[0m\u001b[1;33m)\u001b[0m\u001b[1;33m\u001b[0m\u001b[1;33m\u001b[0m\u001b[0m\n",
      "\u001b[1;31mDocstring:\u001b[0m     \n",
      "Principal component analysis (PCA).\n",
      "\n",
      "Linear dimensionality reduction using Singular Value Decomposition of the\n",
      "data to project it to a lower dimensional space. The input data is centered\n",
      "but not scaled for each feature before applying the SVD.\n",
      "\n",
      "It uses the LAPACK implementation of the full SVD or a randomized truncated\n",
      "SVD by the method of Halko et al. 2009, depending on the shape of the input\n",
      "data and the number of components to extract.\n",
      "\n",
      "It can also use the scipy.sparse.linalg ARPACK implementation of the\n",
      "truncated SVD.\n",
      "\n",
      "Notice that this class does not support sparse input. See\n",
      ":class:`TruncatedSVD` for an alternative with sparse data.\n",
      "\n",
      "Read more in the :ref:`User Guide <PCA>`.\n",
      "\n",
      "Parameters\n",
      "----------\n",
      "n_components : int, float or 'mle', default=None\n",
      "    Number of components to keep.\n",
      "    if n_components is not set all components are kept::\n",
      "\n",
      "        n_components == min(n_samples, n_features)\n",
      "\n",
      "    If ``n_components == 'mle'`` and ``svd_solver == 'full'``, Minka's\n",
      "    MLE is used to guess the dimension. Use of ``n_components == 'mle'``\n",
      "    will interpret ``svd_solver == 'auto'`` as ``svd_solver == 'full'``.\n",
      "\n",
      "    If ``0 < n_components < 1`` and ``svd_solver == 'full'``, select the\n",
      "    number of components such that the amount of variance that needs to be\n",
      "    explained is greater than the percentage specified by n_components.\n",
      "\n",
      "    If ``svd_solver == 'arpack'``, the number of components must be\n",
      "    strictly less than the minimum of n_features and n_samples.\n",
      "\n",
      "    Hence, the None case results in::\n",
      "\n",
      "        n_components == min(n_samples, n_features) - 1\n",
      "\n",
      "copy : bool, default=True\n",
      "    If False, data passed to fit are overwritten and running\n",
      "    fit(X).transform(X) will not yield the expected results,\n",
      "    use fit_transform(X) instead.\n",
      "\n",
      "whiten : bool, default=False\n",
      "    When True (False by default) the `components_` vectors are multiplied\n",
      "    by the square root of n_samples and then divided by the singular values\n",
      "    to ensure uncorrelated outputs with unit component-wise variances.\n",
      "\n",
      "    Whitening will remove some information from the transformed signal\n",
      "    (the relative variance scales of the components) but can sometime\n",
      "    improve the predictive accuracy of the downstream estimators by\n",
      "    making their data respect some hard-wired assumptions.\n",
      "\n",
      "svd_solver : {'auto', 'full', 'arpack', 'randomized'}, default='auto'\n",
      "    If auto :\n",
      "        The solver is selected by a default policy based on `X.shape` and\n",
      "        `n_components`: if the input data is larger than 500x500 and the\n",
      "        number of components to extract is lower than 80% of the smallest\n",
      "        dimension of the data, then the more efficient 'randomized'\n",
      "        method is enabled. Otherwise the exact full SVD is computed and\n",
      "        optionally truncated afterwards.\n",
      "    If full :\n",
      "        run exact full SVD calling the standard LAPACK solver via\n",
      "        `scipy.linalg.svd` and select the components by postprocessing\n",
      "    If arpack :\n",
      "        run SVD truncated to n_components calling ARPACK solver via\n",
      "        `scipy.sparse.linalg.svds`. It requires strictly\n",
      "        0 < n_components < min(X.shape)\n",
      "    If randomized :\n",
      "        run randomized SVD by the method of Halko et al.\n",
      "\n",
      "    .. versionadded:: 0.18.0\n",
      "\n",
      "tol : float, default=0.0\n",
      "    Tolerance for singular values computed by svd_solver == 'arpack'.\n",
      "    Must be of range [0.0, infinity).\n",
      "\n",
      "    .. versionadded:: 0.18.0\n",
      "\n",
      "iterated_power : int or 'auto', default='auto'\n",
      "    Number of iterations for the power method computed by\n",
      "    svd_solver == 'randomized'.\n",
      "    Must be of range [0, infinity).\n",
      "\n",
      "    .. versionadded:: 0.18.0\n",
      "\n",
      "n_oversamples : int, default=10\n",
      "    This parameter is only relevant when `svd_solver=\"randomized\"`.\n",
      "    It corresponds to the additional number of random vectors to sample the\n",
      "    range of `X` so as to ensure proper conditioning. See\n",
      "    :func:`~sklearn.utils.extmath.randomized_svd` for more details.\n",
      "\n",
      "    .. versionadded:: 1.1\n",
      "\n",
      "power_iteration_normalizer : {'auto', 'QR', 'LU', 'none'}, default='auto'\n",
      "    Power iteration normalizer for randomized SVD solver.\n",
      "    Not used by ARPACK. See :func:`~sklearn.utils.extmath.randomized_svd`\n",
      "    for more details.\n",
      "\n",
      "    .. versionadded:: 1.1\n",
      "\n",
      "random_state : int, RandomState instance or None, default=None\n",
      "    Used when the 'arpack' or 'randomized' solvers are used. Pass an int\n",
      "    for reproducible results across multiple function calls.\n",
      "    See :term:`Glossary <random_state>`.\n",
      "\n",
      "    .. versionadded:: 0.18.0\n",
      "\n",
      "Attributes\n",
      "----------\n",
      "components_ : ndarray of shape (n_components, n_features)\n",
      "    Principal axes in feature space, representing the directions of\n",
      "    maximum variance in the data. Equivalently, the right singular\n",
      "    vectors of the centered input data, parallel to its eigenvectors.\n",
      "    The components are sorted by decreasing ``explained_variance_``.\n",
      "\n",
      "explained_variance_ : ndarray of shape (n_components,)\n",
      "    The amount of variance explained by each of the selected components.\n",
      "    The variance estimation uses `n_samples - 1` degrees of freedom.\n",
      "\n",
      "    Equal to n_components largest eigenvalues\n",
      "    of the covariance matrix of X.\n",
      "\n",
      "    .. versionadded:: 0.18\n",
      "\n",
      "explained_variance_ratio_ : ndarray of shape (n_components,)\n",
      "    Percentage of variance explained by each of the selected components.\n",
      "\n",
      "    If ``n_components`` is not set then all components are stored and the\n",
      "    sum of the ratios is equal to 1.0.\n",
      "\n",
      "singular_values_ : ndarray of shape (n_components,)\n",
      "    The singular values corresponding to each of the selected components.\n",
      "    The singular values are equal to the 2-norms of the ``n_components``\n",
      "    variables in the lower-dimensional space.\n",
      "\n",
      "    .. versionadded:: 0.19\n",
      "\n",
      "mean_ : ndarray of shape (n_features,)\n",
      "    Per-feature empirical mean, estimated from the training set.\n",
      "\n",
      "    Equal to `X.mean(axis=0)`.\n",
      "\n",
      "n_components_ : int\n",
      "    The estimated number of components. When n_components is set\n",
      "    to 'mle' or a number between 0 and 1 (with svd_solver == 'full') this\n",
      "    number is estimated from input data. Otherwise it equals the parameter\n",
      "    n_components, or the lesser value of n_features and n_samples\n",
      "    if n_components is None.\n",
      "\n",
      "n_features_ : int\n",
      "    Number of features in the training data.\n",
      "\n",
      "n_samples_ : int\n",
      "    Number of samples in the training data.\n",
      "\n",
      "noise_variance_ : float\n",
      "    The estimated noise covariance following the Probabilistic PCA model\n",
      "    from Tipping and Bishop 1999. See \"Pattern Recognition and\n",
      "    Machine Learning\" by C. Bishop, 12.2.1 p. 574 or\n",
      "    http://www.miketipping.com/papers/met-mppca.pdf. It is required to\n",
      "    compute the estimated data covariance and score samples.\n",
      "\n",
      "    Equal to the average of (min(n_features, n_samples) - n_components)\n",
      "    smallest eigenvalues of the covariance matrix of X.\n",
      "\n",
      "n_features_in_ : int\n",
      "    Number of features seen during :term:`fit`.\n",
      "\n",
      "    .. versionadded:: 0.24\n",
      "\n",
      "feature_names_in_ : ndarray of shape (`n_features_in_`,)\n",
      "    Names of features seen during :term:`fit`. Defined only when `X`\n",
      "    has feature names that are all strings.\n",
      "\n",
      "    .. versionadded:: 1.0\n",
      "\n",
      "See Also\n",
      "--------\n",
      "KernelPCA : Kernel Principal Component Analysis.\n",
      "SparsePCA : Sparse Principal Component Analysis.\n",
      "TruncatedSVD : Dimensionality reduction using truncated SVD.\n",
      "IncrementalPCA : Incremental Principal Component Analysis.\n",
      "\n",
      "References\n",
      "----------\n",
      "For n_components == 'mle', this class uses the method from:\n",
      "`Minka, T. P.. \"Automatic choice of dimensionality for PCA\".\n",
      "In NIPS, pp. 598-604 <https://tminka.github.io/papers/pca/minka-pca.pdf>`_\n",
      "\n",
      "Implements the probabilistic PCA model from:\n",
      "`Tipping, M. E., and Bishop, C. M. (1999). \"Probabilistic principal\n",
      "component analysis\". Journal of the Royal Statistical Society:\n",
      "Series B (Statistical Methodology), 61(3), 611-622.\n",
      "<http://www.miketipping.com/papers/met-mppca.pdf>`_\n",
      "via the score and score_samples methods.\n",
      "\n",
      "For svd_solver == 'arpack', refer to `scipy.sparse.linalg.svds`.\n",
      "\n",
      "For svd_solver == 'randomized', see:\n",
      ":doi:`Halko, N., Martinsson, P. G., and Tropp, J. A. (2011).\n",
      "\"Finding structure with randomness: Probabilistic algorithms for\n",
      "constructing approximate matrix decompositions\".\n",
      "SIAM review, 53(2), 217-288.\n",
      "<10.1137/090771806>`\n",
      "and also\n",
      ":doi:`Martinsson, P. G., Rokhlin, V., and Tygert, M. (2011).\n",
      "\"A randomized algorithm for the decomposition of matrices\".\n",
      "Applied and Computational Harmonic Analysis, 30(1), 47-68.\n",
      "<10.1016/j.acha.2010.02.003>`\n",
      "\n",
      "Examples\n",
      "--------\n",
      ">>> import numpy as np\n",
      ">>> from sklearn.decomposition import PCA\n",
      ">>> X = np.array([[-1, -1], [-2, -1], [-3, -2], [1, 1], [2, 1], [3, 2]])\n",
      ">>> pca = PCA(n_components=2)\n",
      ">>> pca.fit(X)\n",
      "PCA(n_components=2)\n",
      ">>> print(pca.explained_variance_ratio_)\n",
      "[0.9924... 0.0075...]\n",
      ">>> print(pca.singular_values_)\n",
      "[6.30061... 0.54980...]\n",
      "\n",
      ">>> pca = PCA(n_components=2, svd_solver='full')\n",
      ">>> pca.fit(X)\n",
      "PCA(n_components=2, svd_solver='full')\n",
      ">>> print(pca.explained_variance_ratio_)\n",
      "[0.9924... 0.00755...]\n",
      ">>> print(pca.singular_values_)\n",
      "[6.30061... 0.54980...]\n",
      "\n",
      ">>> pca = PCA(n_components=1, svd_solver='arpack')\n",
      ">>> pca.fit(X)\n",
      "PCA(n_components=1, svd_solver='arpack')\n",
      ">>> print(pca.explained_variance_ratio_)\n",
      "[0.99244...]\n",
      ">>> print(pca.singular_values_)\n",
      "[6.30061...]\n",
      "\u001b[1;31mFile:\u001b[0m           d:\\compiler\\lib\\site-packages\\sklearn\\decomposition\\_pca.py\n",
      "\u001b[1;31mType:\u001b[0m           ABCMeta\n",
      "\u001b[1;31mSubclasses:\u001b[0m     "
     ]
    }
   ],
   "source": [
    "PCA?\n",
    "\n"
   ]
  },
  {
   "cell_type": "code",
   "execution_count": 23,
   "metadata": {},
   "outputs": [
    {
     "name": "stderr",
     "output_type": "stream",
     "text": [
      "d:\\compiler\\lib\\site-packages\\sklearn\\svm\\_base.py:297: ConvergenceWarning: Solver terminated early (max_iter=500).  Consider pre-processing your data with StandardScaler or MinMaxScaler.\n",
      "  warnings.warn(\n"
     ]
    },
    {
     "data": {
      "text/html": [
       "<style>#sk-container-id-3 {color: black;}#sk-container-id-3 pre{padding: 0;}#sk-container-id-3 div.sk-toggleable {background-color: white;}#sk-container-id-3 label.sk-toggleable__label {cursor: pointer;display: block;width: 100%;margin-bottom: 0;padding: 0.3em;box-sizing: border-box;text-align: center;}#sk-container-id-3 label.sk-toggleable__label-arrow:before {content: \"▸\";float: left;margin-right: 0.25em;color: #696969;}#sk-container-id-3 label.sk-toggleable__label-arrow:hover:before {color: black;}#sk-container-id-3 div.sk-estimator:hover label.sk-toggleable__label-arrow:before {color: black;}#sk-container-id-3 div.sk-toggleable__content {max-height: 0;max-width: 0;overflow: hidden;text-align: left;background-color: #f0f8ff;}#sk-container-id-3 div.sk-toggleable__content pre {margin: 0.2em;color: black;border-radius: 0.25em;background-color: #f0f8ff;}#sk-container-id-3 input.sk-toggleable__control:checked~div.sk-toggleable__content {max-height: 200px;max-width: 100%;overflow: auto;}#sk-container-id-3 input.sk-toggleable__control:checked~label.sk-toggleable__label-arrow:before {content: \"▾\";}#sk-container-id-3 div.sk-estimator input.sk-toggleable__control:checked~label.sk-toggleable__label {background-color: #d4ebff;}#sk-container-id-3 div.sk-label input.sk-toggleable__control:checked~label.sk-toggleable__label {background-color: #d4ebff;}#sk-container-id-3 input.sk-hidden--visually {border: 0;clip: rect(1px 1px 1px 1px);clip: rect(1px, 1px, 1px, 1px);height: 1px;margin: -1px;overflow: hidden;padding: 0;position: absolute;width: 1px;}#sk-container-id-3 div.sk-estimator {font-family: monospace;background-color: #f0f8ff;border: 1px dotted black;border-radius: 0.25em;box-sizing: border-box;margin-bottom: 0.5em;}#sk-container-id-3 div.sk-estimator:hover {background-color: #d4ebff;}#sk-container-id-3 div.sk-parallel-item::after {content: \"\";width: 100%;border-bottom: 1px solid gray;flex-grow: 1;}#sk-container-id-3 div.sk-label:hover label.sk-toggleable__label {background-color: #d4ebff;}#sk-container-id-3 div.sk-serial::before {content: \"\";position: absolute;border-left: 1px solid gray;box-sizing: border-box;top: 0;bottom: 0;left: 50%;z-index: 0;}#sk-container-id-3 div.sk-serial {display: flex;flex-direction: column;align-items: center;background-color: white;padding-right: 0.2em;padding-left: 0.2em;position: relative;}#sk-container-id-3 div.sk-item {position: relative;z-index: 1;}#sk-container-id-3 div.sk-parallel {display: flex;align-items: stretch;justify-content: center;background-color: white;position: relative;}#sk-container-id-3 div.sk-item::before, #sk-container-id-3 div.sk-parallel-item::before {content: \"\";position: absolute;border-left: 1px solid gray;box-sizing: border-box;top: 0;bottom: 0;left: 50%;z-index: -1;}#sk-container-id-3 div.sk-parallel-item {display: flex;flex-direction: column;z-index: 1;position: relative;background-color: white;}#sk-container-id-3 div.sk-parallel-item:first-child::after {align-self: flex-end;width: 50%;}#sk-container-id-3 div.sk-parallel-item:last-child::after {align-self: flex-start;width: 50%;}#sk-container-id-3 div.sk-parallel-item:only-child::after {width: 0;}#sk-container-id-3 div.sk-dashed-wrapped {border: 1px dashed gray;margin: 0 0.4em 0.5em 0.4em;box-sizing: border-box;padding-bottom: 0.4em;background-color: white;}#sk-container-id-3 div.sk-label label {font-family: monospace;font-weight: bold;display: inline-block;line-height: 1.2em;}#sk-container-id-3 div.sk-label-container {text-align: center;}#sk-container-id-3 div.sk-container {/* jupyter's `normalize.less` sets `[hidden] { display: none; }` but bootstrap.min.css set `[hidden] { display: none !important; }` so we also need the `!important` here to be able to override the default hidden behavior on the sphinx rendered scikit-learn.org. See: https://github.com/scikit-learn/scikit-learn/issues/21755 */display: inline-block !important;position: relative;}#sk-container-id-3 div.sk-text-repr-fallback {display: none;}</style><div id=\"sk-container-id-3\" class=\"sk-top-container\"><div class=\"sk-text-repr-fallback\"><pre>Pipeline(steps=[(&#x27;imputer&#x27;,\n",
       "                 SimpleImputer(fill_value=&#x27;No_Review&#x27;, strategy=&#x27;constant&#x27;)),\n",
       "                (&#x27;col_transform&#x27;,\n",
       "                 ColumnTransformer(n_jobs=-1,\n",
       "                                   transformers=[(&#x27;pass&#x27;, &#x27;passthrough&#x27;,\n",
       "                                                  [&#x27;RecipeNumber&#x27;, &#x27;RecipeCode&#x27;,\n",
       "                                                   &#x27;UserReputation&#x27;,\n",
       "                                                   &#x27;ReplyCount&#x27;,\n",
       "                                                   &#x27;ThumbsUpCount&#x27;,\n",
       "                                                   &#x27;ThumbsDownCount&#x27;,\n",
       "                                                   &#x27;BestScore&#x27;]),\n",
       "                                                 (&#x27;vect2&#x27;,\n",
       "                                                  CountVectorizer(max_features=2000,\n",
       "                                                                  stop_words=&#x27;english&#x27;),\n",
       "                                                  &#x27;Recipe_Review&#x27;)])),\n",
       "                (&#x27;dense&#x27;,\n",
       "                 FunctionTransformer(accept_sparse=True,\n",
       "                                     func=&lt;function &lt;lambda&gt; at 0x0000026BC4C31900&gt;)),\n",
       "                (&#x27;scaler&#x27;, StandardScaler()),\n",
       "                (&#x27;clsf&#x27;, SVC(kernel=&#x27;linear&#x27;, max_iter=500))])</pre><b>In a Jupyter environment, please rerun this cell to show the HTML representation or trust the notebook. <br />On GitHub, the HTML representation is unable to render, please try loading this page with nbviewer.org.</b></div><div class=\"sk-container\" hidden><div class=\"sk-item sk-dashed-wrapped\"><div class=\"sk-label-container\"><div class=\"sk-label sk-toggleable\"><input class=\"sk-toggleable__control sk-hidden--visually\" id=\"sk-estimator-id-21\" type=\"checkbox\" ><label for=\"sk-estimator-id-21\" class=\"sk-toggleable__label sk-toggleable__label-arrow\">Pipeline</label><div class=\"sk-toggleable__content\"><pre>Pipeline(steps=[(&#x27;imputer&#x27;,\n",
       "                 SimpleImputer(fill_value=&#x27;No_Review&#x27;, strategy=&#x27;constant&#x27;)),\n",
       "                (&#x27;col_transform&#x27;,\n",
       "                 ColumnTransformer(n_jobs=-1,\n",
       "                                   transformers=[(&#x27;pass&#x27;, &#x27;passthrough&#x27;,\n",
       "                                                  [&#x27;RecipeNumber&#x27;, &#x27;RecipeCode&#x27;,\n",
       "                                                   &#x27;UserReputation&#x27;,\n",
       "                                                   &#x27;ReplyCount&#x27;,\n",
       "                                                   &#x27;ThumbsUpCount&#x27;,\n",
       "                                                   &#x27;ThumbsDownCount&#x27;,\n",
       "                                                   &#x27;BestScore&#x27;]),\n",
       "                                                 (&#x27;vect2&#x27;,\n",
       "                                                  CountVectorizer(max_features=2000,\n",
       "                                                                  stop_words=&#x27;english&#x27;),\n",
       "                                                  &#x27;Recipe_Review&#x27;)])),\n",
       "                (&#x27;dense&#x27;,\n",
       "                 FunctionTransformer(accept_sparse=True,\n",
       "                                     func=&lt;function &lt;lambda&gt; at 0x0000026BC4C31900&gt;)),\n",
       "                (&#x27;scaler&#x27;, StandardScaler()),\n",
       "                (&#x27;clsf&#x27;, SVC(kernel=&#x27;linear&#x27;, max_iter=500))])</pre></div></div></div><div class=\"sk-serial\"><div class=\"sk-item\"><div class=\"sk-estimator sk-toggleable\"><input class=\"sk-toggleable__control sk-hidden--visually\" id=\"sk-estimator-id-22\" type=\"checkbox\" ><label for=\"sk-estimator-id-22\" class=\"sk-toggleable__label sk-toggleable__label-arrow\">SimpleImputer</label><div class=\"sk-toggleable__content\"><pre>SimpleImputer(fill_value=&#x27;No_Review&#x27;, strategy=&#x27;constant&#x27;)</pre></div></div></div><div class=\"sk-item sk-dashed-wrapped\"><div class=\"sk-label-container\"><div class=\"sk-label sk-toggleable\"><input class=\"sk-toggleable__control sk-hidden--visually\" id=\"sk-estimator-id-23\" type=\"checkbox\" ><label for=\"sk-estimator-id-23\" class=\"sk-toggleable__label sk-toggleable__label-arrow\">col_transform: ColumnTransformer</label><div class=\"sk-toggleable__content\"><pre>ColumnTransformer(n_jobs=-1,\n",
       "                  transformers=[(&#x27;pass&#x27;, &#x27;passthrough&#x27;,\n",
       "                                 [&#x27;RecipeNumber&#x27;, &#x27;RecipeCode&#x27;,\n",
       "                                  &#x27;UserReputation&#x27;, &#x27;ReplyCount&#x27;,\n",
       "                                  &#x27;ThumbsUpCount&#x27;, &#x27;ThumbsDownCount&#x27;,\n",
       "                                  &#x27;BestScore&#x27;]),\n",
       "                                (&#x27;vect2&#x27;,\n",
       "                                 CountVectorizer(max_features=2000,\n",
       "                                                 stop_words=&#x27;english&#x27;),\n",
       "                                 &#x27;Recipe_Review&#x27;)])</pre></div></div></div><div class=\"sk-parallel\"><div class=\"sk-parallel-item\"><div class=\"sk-item\"><div class=\"sk-label-container\"><div class=\"sk-label sk-toggleable\"><input class=\"sk-toggleable__control sk-hidden--visually\" id=\"sk-estimator-id-24\" type=\"checkbox\" ><label for=\"sk-estimator-id-24\" class=\"sk-toggleable__label sk-toggleable__label-arrow\">pass</label><div class=\"sk-toggleable__content\"><pre>[&#x27;RecipeNumber&#x27;, &#x27;RecipeCode&#x27;, &#x27;UserReputation&#x27;, &#x27;ReplyCount&#x27;, &#x27;ThumbsUpCount&#x27;, &#x27;ThumbsDownCount&#x27;, &#x27;BestScore&#x27;]</pre></div></div></div><div class=\"sk-serial\"><div class=\"sk-item\"><div class=\"sk-estimator sk-toggleable\"><input class=\"sk-toggleable__control sk-hidden--visually\" id=\"sk-estimator-id-25\" type=\"checkbox\" ><label for=\"sk-estimator-id-25\" class=\"sk-toggleable__label sk-toggleable__label-arrow\">passthrough</label><div class=\"sk-toggleable__content\"><pre>passthrough</pre></div></div></div></div></div></div><div class=\"sk-parallel-item\"><div class=\"sk-item\"><div class=\"sk-label-container\"><div class=\"sk-label sk-toggleable\"><input class=\"sk-toggleable__control sk-hidden--visually\" id=\"sk-estimator-id-26\" type=\"checkbox\" ><label for=\"sk-estimator-id-26\" class=\"sk-toggleable__label sk-toggleable__label-arrow\">vect2</label><div class=\"sk-toggleable__content\"><pre>Recipe_Review</pre></div></div></div><div class=\"sk-serial\"><div class=\"sk-item\"><div class=\"sk-estimator sk-toggleable\"><input class=\"sk-toggleable__control sk-hidden--visually\" id=\"sk-estimator-id-27\" type=\"checkbox\" ><label for=\"sk-estimator-id-27\" class=\"sk-toggleable__label sk-toggleable__label-arrow\">CountVectorizer</label><div class=\"sk-toggleable__content\"><pre>CountVectorizer(max_features=2000, stop_words=&#x27;english&#x27;)</pre></div></div></div></div></div></div></div></div><div class=\"sk-item\"><div class=\"sk-estimator sk-toggleable\"><input class=\"sk-toggleable__control sk-hidden--visually\" id=\"sk-estimator-id-28\" type=\"checkbox\" ><label for=\"sk-estimator-id-28\" class=\"sk-toggleable__label sk-toggleable__label-arrow\">FunctionTransformer</label><div class=\"sk-toggleable__content\"><pre>FunctionTransformer(accept_sparse=True,\n",
       "                    func=&lt;function &lt;lambda&gt; at 0x0000026BC4C31900&gt;)</pre></div></div></div><div class=\"sk-item\"><div class=\"sk-estimator sk-toggleable\"><input class=\"sk-toggleable__control sk-hidden--visually\" id=\"sk-estimator-id-29\" type=\"checkbox\" ><label for=\"sk-estimator-id-29\" class=\"sk-toggleable__label sk-toggleable__label-arrow\">StandardScaler</label><div class=\"sk-toggleable__content\"><pre>StandardScaler()</pre></div></div></div><div class=\"sk-item\"><div class=\"sk-estimator sk-toggleable\"><input class=\"sk-toggleable__control sk-hidden--visually\" id=\"sk-estimator-id-30\" type=\"checkbox\" ><label for=\"sk-estimator-id-30\" class=\"sk-toggleable__label sk-toggleable__label-arrow\">SVC</label><div class=\"sk-toggleable__content\"><pre>SVC(kernel=&#x27;linear&#x27;, max_iter=500)</pre></div></div></div></div></div></div></div>"
      ],
      "text/plain": [
       "Pipeline(steps=[('imputer',\n",
       "                 SimpleImputer(fill_value='No_Review', strategy='constant')),\n",
       "                ('col_transform',\n",
       "                 ColumnTransformer(n_jobs=-1,\n",
       "                                   transformers=[('pass', 'passthrough',\n",
       "                                                  ['RecipeNumber', 'RecipeCode',\n",
       "                                                   'UserReputation',\n",
       "                                                   'ReplyCount',\n",
       "                                                   'ThumbsUpCount',\n",
       "                                                   'ThumbsDownCount',\n",
       "                                                   'BestScore']),\n",
       "                                                 ('vect2',\n",
       "                                                  CountVectorizer(max_features=2000,\n",
       "                                                                  stop_words='english'),\n",
       "                                                  'Recipe_Review')])),\n",
       "                ('dense',\n",
       "                 FunctionTransformer(accept_sparse=True,\n",
       "                                     func=<function <lambda> at 0x0000026BC4C31900>)),\n",
       "                ('scaler', StandardScaler()),\n",
       "                ('clsf', SVC(kernel='linear', max_iter=500))])"
      ]
     },
     "execution_count": 23,
     "metadata": {},
     "output_type": "execute_result"
    }
   ],
   "source": [
    "pipeline.fit(X_train, y_train)"
   ]
  },
  {
   "cell_type": "markdown",
   "metadata": {},
   "source": [
    "### Overfit model"
   ]
  },
  {
   "cell_type": "code",
   "execution_count": 24,
   "metadata": {},
   "outputs": [],
   "source": [
    "train_predict=pipeline.predict(X_train)\n",
    "test_predict=pipeline.predict(test_data)"
   ]
  },
  {
   "cell_type": "code",
   "execution_count": 25,
   "metadata": {},
   "outputs": [
    {
     "data": {
      "text/plain": [
       "0.5977559401584043"
      ]
     },
     "execution_count": 25,
     "metadata": {},
     "output_type": "execute_result"
    }
   ],
   "source": [
    "accuracy_score(y_train, train_predict)"
   ]
  },
  {
   "cell_type": "code",
   "execution_count": 26,
   "metadata": {},
   "outputs": [
    {
     "ename": "KeyboardInterrupt",
     "evalue": "",
     "output_type": "error",
     "traceback": [
      "\u001b[1;31m---------------------------------------------------------------------------\u001b[0m",
      "\u001b[1;31mKeyboardInterrupt\u001b[0m                         Traceback (most recent call last)",
      "Cell \u001b[1;32mIn[26], line 1\u001b[0m\n\u001b[1;32m----> 1\u001b[0m \u001b[43mcross_val_score\u001b[49m\u001b[43m(\u001b[49m\u001b[43mpipeline\u001b[49m\u001b[43m,\u001b[49m\u001b[43m \u001b[49m\u001b[43mX_train\u001b[49m\u001b[43m,\u001b[49m\u001b[43m \u001b[49m\u001b[43my_train\u001b[49m\u001b[43m,\u001b[49m\u001b[43m \u001b[49m\u001b[43mcv\u001b[49m\u001b[38;5;241;43m=\u001b[39;49m\u001b[38;5;241;43m4\u001b[39;49m\u001b[43m,\u001b[49m\u001b[43m \u001b[49m\u001b[43mn_jobs\u001b[49m\u001b[38;5;241;43m=\u001b[39;49m\u001b[38;5;241;43m-\u001b[39;49m\u001b[38;5;241;43m1\u001b[39;49m\u001b[43m)\u001b[49m\n",
      "File \u001b[1;32md:\\compiler\\lib\\site-packages\\sklearn\\model_selection\\_validation.py:562\u001b[0m, in \u001b[0;36mcross_val_score\u001b[1;34m(estimator, X, y, groups, scoring, cv, n_jobs, verbose, fit_params, pre_dispatch, error_score)\u001b[0m\n\u001b[0;32m    559\u001b[0m \u001b[38;5;66;03m# To ensure multimetric format is not supported\u001b[39;00m\n\u001b[0;32m    560\u001b[0m scorer \u001b[38;5;241m=\u001b[39m check_scoring(estimator, scoring\u001b[38;5;241m=\u001b[39mscoring)\n\u001b[1;32m--> 562\u001b[0m cv_results \u001b[38;5;241m=\u001b[39m \u001b[43mcross_validate\u001b[49m\u001b[43m(\u001b[49m\n\u001b[0;32m    563\u001b[0m \u001b[43m    \u001b[49m\u001b[43mestimator\u001b[49m\u001b[38;5;241;43m=\u001b[39;49m\u001b[43mestimator\u001b[49m\u001b[43m,\u001b[49m\n\u001b[0;32m    564\u001b[0m \u001b[43m    \u001b[49m\u001b[43mX\u001b[49m\u001b[38;5;241;43m=\u001b[39;49m\u001b[43mX\u001b[49m\u001b[43m,\u001b[49m\n\u001b[0;32m    565\u001b[0m \u001b[43m    \u001b[49m\u001b[43my\u001b[49m\u001b[38;5;241;43m=\u001b[39;49m\u001b[43my\u001b[49m\u001b[43m,\u001b[49m\n\u001b[0;32m    566\u001b[0m \u001b[43m    \u001b[49m\u001b[43mgroups\u001b[49m\u001b[38;5;241;43m=\u001b[39;49m\u001b[43mgroups\u001b[49m\u001b[43m,\u001b[49m\n\u001b[0;32m    567\u001b[0m \u001b[43m    \u001b[49m\u001b[43mscoring\u001b[49m\u001b[38;5;241;43m=\u001b[39;49m\u001b[43m{\u001b[49m\u001b[38;5;124;43m\"\u001b[39;49m\u001b[38;5;124;43mscore\u001b[39;49m\u001b[38;5;124;43m\"\u001b[39;49m\u001b[43m:\u001b[49m\u001b[43m \u001b[49m\u001b[43mscorer\u001b[49m\u001b[43m}\u001b[49m\u001b[43m,\u001b[49m\n\u001b[0;32m    568\u001b[0m \u001b[43m    \u001b[49m\u001b[43mcv\u001b[49m\u001b[38;5;241;43m=\u001b[39;49m\u001b[43mcv\u001b[49m\u001b[43m,\u001b[49m\n\u001b[0;32m    569\u001b[0m \u001b[43m    \u001b[49m\u001b[43mn_jobs\u001b[49m\u001b[38;5;241;43m=\u001b[39;49m\u001b[43mn_jobs\u001b[49m\u001b[43m,\u001b[49m\n\u001b[0;32m    570\u001b[0m \u001b[43m    \u001b[49m\u001b[43mverbose\u001b[49m\u001b[38;5;241;43m=\u001b[39;49m\u001b[43mverbose\u001b[49m\u001b[43m,\u001b[49m\n\u001b[0;32m    571\u001b[0m \u001b[43m    \u001b[49m\u001b[43mfit_params\u001b[49m\u001b[38;5;241;43m=\u001b[39;49m\u001b[43mfit_params\u001b[49m\u001b[43m,\u001b[49m\n\u001b[0;32m    572\u001b[0m \u001b[43m    \u001b[49m\u001b[43mpre_dispatch\u001b[49m\u001b[38;5;241;43m=\u001b[39;49m\u001b[43mpre_dispatch\u001b[49m\u001b[43m,\u001b[49m\n\u001b[0;32m    573\u001b[0m \u001b[43m    \u001b[49m\u001b[43merror_score\u001b[49m\u001b[38;5;241;43m=\u001b[39;49m\u001b[43merror_score\u001b[49m\u001b[43m,\u001b[49m\n\u001b[0;32m    574\u001b[0m \u001b[43m\u001b[49m\u001b[43m)\u001b[49m\n\u001b[0;32m    575\u001b[0m \u001b[38;5;28;01mreturn\u001b[39;00m cv_results[\u001b[38;5;124m\"\u001b[39m\u001b[38;5;124mtest_score\u001b[39m\u001b[38;5;124m\"\u001b[39m]\n",
      "File \u001b[1;32md:\\compiler\\lib\\site-packages\\sklearn\\utils\\_param_validation.py:211\u001b[0m, in \u001b[0;36mvalidate_params.<locals>.decorator.<locals>.wrapper\u001b[1;34m(*args, **kwargs)\u001b[0m\n\u001b[0;32m    205\u001b[0m \u001b[38;5;28;01mtry\u001b[39;00m:\n\u001b[0;32m    206\u001b[0m     \u001b[38;5;28;01mwith\u001b[39;00m config_context(\n\u001b[0;32m    207\u001b[0m         skip_parameter_validation\u001b[38;5;241m=\u001b[39m(\n\u001b[0;32m    208\u001b[0m             prefer_skip_nested_validation \u001b[38;5;129;01mor\u001b[39;00m global_skip_validation\n\u001b[0;32m    209\u001b[0m         )\n\u001b[0;32m    210\u001b[0m     ):\n\u001b[1;32m--> 211\u001b[0m         \u001b[38;5;28;01mreturn\u001b[39;00m func(\u001b[38;5;241m*\u001b[39margs, \u001b[38;5;241m*\u001b[39m\u001b[38;5;241m*\u001b[39mkwargs)\n\u001b[0;32m    212\u001b[0m \u001b[38;5;28;01mexcept\u001b[39;00m InvalidParameterError \u001b[38;5;28;01mas\u001b[39;00m e:\n\u001b[0;32m    213\u001b[0m     \u001b[38;5;66;03m# When the function is just a wrapper around an estimator, we allow\u001b[39;00m\n\u001b[0;32m    214\u001b[0m     \u001b[38;5;66;03m# the function to delegate validation to the estimator, but we replace\u001b[39;00m\n\u001b[0;32m    215\u001b[0m     \u001b[38;5;66;03m# the name of the estimator by the name of the function in the error\u001b[39;00m\n\u001b[0;32m    216\u001b[0m     \u001b[38;5;66;03m# message to avoid confusion.\u001b[39;00m\n\u001b[0;32m    217\u001b[0m     msg \u001b[38;5;241m=\u001b[39m re\u001b[38;5;241m.\u001b[39msub(\n\u001b[0;32m    218\u001b[0m         \u001b[38;5;124mr\u001b[39m\u001b[38;5;124m\"\u001b[39m\u001b[38;5;124mparameter of \u001b[39m\u001b[38;5;124m\\\u001b[39m\u001b[38;5;124mw+ must be\u001b[39m\u001b[38;5;124m\"\u001b[39m,\n\u001b[0;32m    219\u001b[0m         \u001b[38;5;124mf\u001b[39m\u001b[38;5;124m\"\u001b[39m\u001b[38;5;124mparameter of \u001b[39m\u001b[38;5;132;01m{\u001b[39;00mfunc\u001b[38;5;241m.\u001b[39m\u001b[38;5;18m__qualname__\u001b[39m\u001b[38;5;132;01m}\u001b[39;00m\u001b[38;5;124m must be\u001b[39m\u001b[38;5;124m\"\u001b[39m,\n\u001b[0;32m    220\u001b[0m         \u001b[38;5;28mstr\u001b[39m(e),\n\u001b[0;32m    221\u001b[0m     )\n",
      "File \u001b[1;32md:\\compiler\\lib\\site-packages\\sklearn\\model_selection\\_validation.py:309\u001b[0m, in \u001b[0;36mcross_validate\u001b[1;34m(estimator, X, y, groups, scoring, cv, n_jobs, verbose, fit_params, pre_dispatch, return_train_score, return_estimator, return_indices, error_score)\u001b[0m\n\u001b[0;32m    306\u001b[0m \u001b[38;5;66;03m# We clone the estimator to make sure that all the folds are\u001b[39;00m\n\u001b[0;32m    307\u001b[0m \u001b[38;5;66;03m# independent, and that it is pickle-able.\u001b[39;00m\n\u001b[0;32m    308\u001b[0m parallel \u001b[38;5;241m=\u001b[39m Parallel(n_jobs\u001b[38;5;241m=\u001b[39mn_jobs, verbose\u001b[38;5;241m=\u001b[39mverbose, pre_dispatch\u001b[38;5;241m=\u001b[39mpre_dispatch)\n\u001b[1;32m--> 309\u001b[0m results \u001b[38;5;241m=\u001b[39m \u001b[43mparallel\u001b[49m\u001b[43m(\u001b[49m\n\u001b[0;32m    310\u001b[0m \u001b[43m    \u001b[49m\u001b[43mdelayed\u001b[49m\u001b[43m(\u001b[49m\u001b[43m_fit_and_score\u001b[49m\u001b[43m)\u001b[49m\u001b[43m(\u001b[49m\n\u001b[0;32m    311\u001b[0m \u001b[43m        \u001b[49m\u001b[43mclone\u001b[49m\u001b[43m(\u001b[49m\u001b[43mestimator\u001b[49m\u001b[43m)\u001b[49m\u001b[43m,\u001b[49m\n\u001b[0;32m    312\u001b[0m \u001b[43m        \u001b[49m\u001b[43mX\u001b[49m\u001b[43m,\u001b[49m\n\u001b[0;32m    313\u001b[0m \u001b[43m        \u001b[49m\u001b[43my\u001b[49m\u001b[43m,\u001b[49m\n\u001b[0;32m    314\u001b[0m \u001b[43m        \u001b[49m\u001b[43mscorers\u001b[49m\u001b[43m,\u001b[49m\n\u001b[0;32m    315\u001b[0m \u001b[43m        \u001b[49m\u001b[43mtrain\u001b[49m\u001b[43m,\u001b[49m\n\u001b[0;32m    316\u001b[0m \u001b[43m        \u001b[49m\u001b[43mtest\u001b[49m\u001b[43m,\u001b[49m\n\u001b[0;32m    317\u001b[0m \u001b[43m        \u001b[49m\u001b[43mverbose\u001b[49m\u001b[43m,\u001b[49m\n\u001b[0;32m    318\u001b[0m \u001b[43m        \u001b[49m\u001b[38;5;28;43;01mNone\u001b[39;49;00m\u001b[43m,\u001b[49m\n\u001b[0;32m    319\u001b[0m \u001b[43m        \u001b[49m\u001b[43mfit_params\u001b[49m\u001b[43m,\u001b[49m\n\u001b[0;32m    320\u001b[0m \u001b[43m        \u001b[49m\u001b[43mreturn_train_score\u001b[49m\u001b[38;5;241;43m=\u001b[39;49m\u001b[43mreturn_train_score\u001b[49m\u001b[43m,\u001b[49m\n\u001b[0;32m    321\u001b[0m \u001b[43m        \u001b[49m\u001b[43mreturn_times\u001b[49m\u001b[38;5;241;43m=\u001b[39;49m\u001b[38;5;28;43;01mTrue\u001b[39;49;00m\u001b[43m,\u001b[49m\n\u001b[0;32m    322\u001b[0m \u001b[43m        \u001b[49m\u001b[43mreturn_estimator\u001b[49m\u001b[38;5;241;43m=\u001b[39;49m\u001b[43mreturn_estimator\u001b[49m\u001b[43m,\u001b[49m\n\u001b[0;32m    323\u001b[0m \u001b[43m        \u001b[49m\u001b[43merror_score\u001b[49m\u001b[38;5;241;43m=\u001b[39;49m\u001b[43merror_score\u001b[49m\u001b[43m,\u001b[49m\n\u001b[0;32m    324\u001b[0m \u001b[43m    \u001b[49m\u001b[43m)\u001b[49m\n\u001b[0;32m    325\u001b[0m \u001b[43m    \u001b[49m\u001b[38;5;28;43;01mfor\u001b[39;49;00m\u001b[43m \u001b[49m\u001b[43mtrain\u001b[49m\u001b[43m,\u001b[49m\u001b[43m \u001b[49m\u001b[43mtest\u001b[49m\u001b[43m \u001b[49m\u001b[38;5;129;43;01min\u001b[39;49;00m\u001b[43m \u001b[49m\u001b[43mindices\u001b[49m\n\u001b[0;32m    326\u001b[0m \u001b[43m\u001b[49m\u001b[43m)\u001b[49m\n\u001b[0;32m    328\u001b[0m _warn_or_raise_about_fit_failures(results, error_score)\n\u001b[0;32m    330\u001b[0m \u001b[38;5;66;03m# For callable scoring, the return type is only know after calling. If the\u001b[39;00m\n\u001b[0;32m    331\u001b[0m \u001b[38;5;66;03m# return type is a dictionary, the error scores can now be inserted with\u001b[39;00m\n\u001b[0;32m    332\u001b[0m \u001b[38;5;66;03m# the correct key.\u001b[39;00m\n",
      "File \u001b[1;32md:\\compiler\\lib\\site-packages\\sklearn\\utils\\parallel.py:65\u001b[0m, in \u001b[0;36mParallel.__call__\u001b[1;34m(self, iterable)\u001b[0m\n\u001b[0;32m     60\u001b[0m config \u001b[38;5;241m=\u001b[39m get_config()\n\u001b[0;32m     61\u001b[0m iterable_with_config \u001b[38;5;241m=\u001b[39m (\n\u001b[0;32m     62\u001b[0m     (_with_config(delayed_func, config), args, kwargs)\n\u001b[0;32m     63\u001b[0m     \u001b[38;5;28;01mfor\u001b[39;00m delayed_func, args, kwargs \u001b[38;5;129;01min\u001b[39;00m iterable\n\u001b[0;32m     64\u001b[0m )\n\u001b[1;32m---> 65\u001b[0m \u001b[38;5;28;01mreturn\u001b[39;00m \u001b[38;5;28;43msuper\u001b[39;49m\u001b[43m(\u001b[49m\u001b[43m)\u001b[49m\u001b[38;5;241;43m.\u001b[39;49m\u001b[38;5;21;43m__call__\u001b[39;49m\u001b[43m(\u001b[49m\u001b[43miterable_with_config\u001b[49m\u001b[43m)\u001b[49m\n",
      "File \u001b[1;32md:\\compiler\\lib\\site-packages\\joblib\\parallel.py:1952\u001b[0m, in \u001b[0;36mParallel.__call__\u001b[1;34m(self, iterable)\u001b[0m\n\u001b[0;32m   1946\u001b[0m \u001b[38;5;66;03m# The first item from the output is blank, but it makes the interpreter\u001b[39;00m\n\u001b[0;32m   1947\u001b[0m \u001b[38;5;66;03m# progress until it enters the Try/Except block of the generator and\u001b[39;00m\n\u001b[0;32m   1948\u001b[0m \u001b[38;5;66;03m# reach the first `yield` statement. This starts the aynchronous\u001b[39;00m\n\u001b[0;32m   1949\u001b[0m \u001b[38;5;66;03m# dispatch of the tasks to the workers.\u001b[39;00m\n\u001b[0;32m   1950\u001b[0m \u001b[38;5;28mnext\u001b[39m(output)\n\u001b[1;32m-> 1952\u001b[0m \u001b[38;5;28;01mreturn\u001b[39;00m output \u001b[38;5;28;01mif\u001b[39;00m \u001b[38;5;28mself\u001b[39m\u001b[38;5;241m.\u001b[39mreturn_generator \u001b[38;5;28;01melse\u001b[39;00m \u001b[38;5;28;43mlist\u001b[39;49m\u001b[43m(\u001b[49m\u001b[43moutput\u001b[49m\u001b[43m)\u001b[49m\n",
      "File \u001b[1;32md:\\compiler\\lib\\site-packages\\joblib\\parallel.py:1595\u001b[0m, in \u001b[0;36mParallel._get_outputs\u001b[1;34m(self, iterator, pre_dispatch)\u001b[0m\n\u001b[0;32m   1592\u001b[0m     \u001b[38;5;28;01myield\u001b[39;00m\n\u001b[0;32m   1594\u001b[0m     \u001b[38;5;28;01mwith\u001b[39;00m \u001b[38;5;28mself\u001b[39m\u001b[38;5;241m.\u001b[39m_backend\u001b[38;5;241m.\u001b[39mretrieval_context():\n\u001b[1;32m-> 1595\u001b[0m         \u001b[38;5;28;01myield from\u001b[39;00m \u001b[38;5;28mself\u001b[39m\u001b[38;5;241m.\u001b[39m_retrieve()\n\u001b[0;32m   1597\u001b[0m \u001b[38;5;28;01mexcept\u001b[39;00m \u001b[38;5;167;01mGeneratorExit\u001b[39;00m:\n\u001b[0;32m   1598\u001b[0m     \u001b[38;5;66;03m# The generator has been garbage collected before being fully\u001b[39;00m\n\u001b[0;32m   1599\u001b[0m     \u001b[38;5;66;03m# consumed. This aborts the remaining tasks if possible and warn\u001b[39;00m\n\u001b[0;32m   1600\u001b[0m     \u001b[38;5;66;03m# the user if necessary.\u001b[39;00m\n\u001b[0;32m   1601\u001b[0m     \u001b[38;5;28mself\u001b[39m\u001b[38;5;241m.\u001b[39m_exception \u001b[38;5;241m=\u001b[39m \u001b[38;5;28;01mTrue\u001b[39;00m\n",
      "File \u001b[1;32md:\\compiler\\lib\\site-packages\\joblib\\parallel.py:1707\u001b[0m, in \u001b[0;36mParallel._retrieve\u001b[1;34m(self)\u001b[0m\n\u001b[0;32m   1702\u001b[0m \u001b[38;5;66;03m# If the next job is not ready for retrieval yet, we just wait for\u001b[39;00m\n\u001b[0;32m   1703\u001b[0m \u001b[38;5;66;03m# async callbacks to progress.\u001b[39;00m\n\u001b[0;32m   1704\u001b[0m \u001b[38;5;28;01mif\u001b[39;00m ((\u001b[38;5;28mlen\u001b[39m(\u001b[38;5;28mself\u001b[39m\u001b[38;5;241m.\u001b[39m_jobs) \u001b[38;5;241m==\u001b[39m \u001b[38;5;241m0\u001b[39m) \u001b[38;5;129;01mor\u001b[39;00m\n\u001b[0;32m   1705\u001b[0m     (\u001b[38;5;28mself\u001b[39m\u001b[38;5;241m.\u001b[39m_jobs[\u001b[38;5;241m0\u001b[39m]\u001b[38;5;241m.\u001b[39mget_status(\n\u001b[0;32m   1706\u001b[0m         timeout\u001b[38;5;241m=\u001b[39m\u001b[38;5;28mself\u001b[39m\u001b[38;5;241m.\u001b[39mtimeout) \u001b[38;5;241m==\u001b[39m TASK_PENDING)):\n\u001b[1;32m-> 1707\u001b[0m     \u001b[43mtime\u001b[49m\u001b[38;5;241;43m.\u001b[39;49m\u001b[43msleep\u001b[49m\u001b[43m(\u001b[49m\u001b[38;5;241;43m0.01\u001b[39;49m\u001b[43m)\u001b[49m\n\u001b[0;32m   1708\u001b[0m     \u001b[38;5;28;01mcontinue\u001b[39;00m\n\u001b[0;32m   1710\u001b[0m \u001b[38;5;66;03m# We need to be careful: the job list can be filling up as\u001b[39;00m\n\u001b[0;32m   1711\u001b[0m \u001b[38;5;66;03m# we empty it and Python list are not thread-safe by\u001b[39;00m\n\u001b[0;32m   1712\u001b[0m \u001b[38;5;66;03m# default hence the use of the lock\u001b[39;00m\n",
      "\u001b[1;31mKeyboardInterrupt\u001b[0m: "
     ]
    }
   ],
   "source": [
    "cross_val_score(pipeline, X_train, y_train, cv=4, n_jobs=-1)"
   ]
  },
  {
   "cell_type": "code",
   "execution_count": 151,
   "metadata": {},
   "outputs": [
    {
     "data": {
      "image/png": "[encoded data removed]",
      "text/plain": [
       "<Figure size 640x480 with 2 Axes>"
      ]
     },
     "metadata": {},
     "output_type": "display_data"
    }
   ],
   "source": [
    "ConfusionMatrixDisplay.from_predictions(y_train, train_predict, display_labels=pipeline.classes_)\n",
    "plt.grid(False)"
   ]
  },
  {
   "cell_type": "code",
   "execution_count": 152,
   "metadata": {},
   "outputs": [
    {
     "name": "stdout",
     "output_type": "stream",
     "text": [
      "              precision    recall  f1-score   support\n",
      "\n",
      "           0       0.84      0.61      0.71      1272\n",
      "           1       0.99      0.99      0.99       210\n",
      "           2       1.00      0.98      0.99       174\n",
      "           3       0.99      0.95      0.97       368\n",
      "           4       0.86      0.68      0.76      1241\n",
      "           5       0.92      0.98      0.95     10371\n",
      "\n",
      "    accuracy                           0.91     13636\n",
      "   macro avg       0.93      0.86      0.89     13636\n",
      "weighted avg       0.91      0.91      0.91     13636\n",
      "\n"
     ]
    }
   ],
   "source": [
    "print(classification_report(y_train, train_predict))"
   ]
  },
  {
   "cell_type": "markdown",
   "metadata": {},
   "source": [
    "### Grid Search CV"
   ]
  },
  {
   "cell_type": "code",
   "execution_count": 157,
   "metadata": {},
   "outputs": [
    {
     "name": "stderr",
     "output_type": "stream",
     "text": [
      "d:\\compiler\\lib\\site-packages\\sklearn\\linear_model\\_sag.py:350: ConvergenceWarning: The max_iter was reached which means the coef_ did not converge\n",
      "  warnings.warn(\n"
     ]
    },
    {
     "data": {
      "text/html": [
       "<style>#sk-container-id-25 {color: black;}#sk-container-id-25 pre{padding: 0;}#sk-container-id-25 div.sk-toggleable {background-color: white;}#sk-container-id-25 label.sk-toggleable__label {cursor: pointer;display: block;width: 100%;margin-bottom: 0;padding: 0.3em;box-sizing: border-box;text-align: center;}#sk-container-id-25 label.sk-toggleable__label-arrow:before {content: \"▸\";float: left;margin-right: 0.25em;color: #696969;}#sk-container-id-25 label.sk-toggleable__label-arrow:hover:before {color: black;}#sk-container-id-25 div.sk-estimator:hover label.sk-toggleable__label-arrow:before {color: black;}#sk-container-id-25 div.sk-toggleable__content {max-height: 0;max-width: 0;overflow: hidden;text-align: left;background-color: #f0f8ff;}#sk-container-id-25 div.sk-toggleable__content pre {margin: 0.2em;color: black;border-radius: 0.25em;background-color: #f0f8ff;}#sk-container-id-25 input.sk-toggleable__control:checked~div.sk-toggleable__content {max-height: 200px;max-width: 100%;overflow: auto;}#sk-container-id-25 input.sk-toggleable__control:checked~label.sk-toggleable__label-arrow:before {content: \"▾\";}#sk-container-id-25 div.sk-estimator input.sk-toggleable__control:checked~label.sk-toggleable__label {background-color: #d4ebff;}#sk-container-id-25 div.sk-label input.sk-toggleable__control:checked~label.sk-toggleable__label {background-color: #d4ebff;}#sk-container-id-25 input.sk-hidden--visually {border: 0;clip: rect(1px 1px 1px 1px);clip: rect(1px, 1px, 1px, 1px);height: 1px;margin: -1px;overflow: hidden;padding: 0;position: absolute;width: 1px;}#sk-container-id-25 div.sk-estimator {font-family: monospace;background-color: #f0f8ff;border: 1px dotted black;border-radius: 0.25em;box-sizing: border-box;margin-bottom: 0.5em;}#sk-container-id-25 div.sk-estimator:hover {background-color: #d4ebff;}#sk-container-id-25 div.sk-parallel-item::after {content: \"\";width: 100%;border-bottom: 1px solid gray;flex-grow: 1;}#sk-container-id-25 div.sk-label:hover label.sk-toggleable__label {background-color: #d4ebff;}#sk-container-id-25 div.sk-serial::before {content: \"\";position: absolute;border-left: 1px solid gray;box-sizing: border-box;top: 0;bottom: 0;left: 50%;z-index: 0;}#sk-container-id-25 div.sk-serial {display: flex;flex-direction: column;align-items: center;background-color: white;padding-right: 0.2em;padding-left: 0.2em;position: relative;}#sk-container-id-25 div.sk-item {position: relative;z-index: 1;}#sk-container-id-25 div.sk-parallel {display: flex;align-items: stretch;justify-content: center;background-color: white;position: relative;}#sk-container-id-25 div.sk-item::before, #sk-container-id-25 div.sk-parallel-item::before {content: \"\";position: absolute;border-left: 1px solid gray;box-sizing: border-box;top: 0;bottom: 0;left: 50%;z-index: -1;}#sk-container-id-25 div.sk-parallel-item {display: flex;flex-direction: column;z-index: 1;position: relative;background-color: white;}#sk-container-id-25 div.sk-parallel-item:first-child::after {align-self: flex-end;width: 50%;}#sk-container-id-25 div.sk-parallel-item:last-child::after {align-self: flex-start;width: 50%;}#sk-container-id-25 div.sk-parallel-item:only-child::after {width: 0;}#sk-container-id-25 div.sk-dashed-wrapped {border: 1px dashed gray;margin: 0 0.4em 0.5em 0.4em;box-sizing: border-box;padding-bottom: 0.4em;background-color: white;}#sk-container-id-25 div.sk-label label {font-family: monospace;font-weight: bold;display: inline-block;line-height: 1.2em;}#sk-container-id-25 div.sk-label-container {text-align: center;}#sk-container-id-25 div.sk-container {/* jupyter's `normalize.less` sets `[hidden] { display: none; }` but bootstrap.min.css set `[hidden] { display: none !important; }` so we also need the `!important` here to be able to override the default hidden behavior on the sphinx rendered scikit-learn.org. See: https://github.com/scikit-learn/scikit-learn/issues/21755 */display: inline-block !important;position: relative;}#sk-container-id-25 div.sk-text-repr-fallback {display: none;}</style><div id=\"sk-container-id-25\" class=\"sk-top-container\"><div class=\"sk-text-repr-fallback\"><pre>GridSearchCV(cv=4, error_score=0,\n",
       "             estimator=Pipeline(steps=[(&#x27;imputer&#x27;,\n",
       "                                        SimpleImputer(fill_value=&#x27;No_Review&#x27;,\n",
       "                                                      strategy=&#x27;constant&#x27;)),\n",
       "                                       (&#x27;col_transform&#x27;,\n",
       "                                        ColumnTransformer(n_jobs=-1,\n",
       "                                                          transformers=[(&#x27;pass&#x27;,\n",
       "                                                                         &#x27;passthrough&#x27;,\n",
       "                                                                         [&#x27;RecipeNumber&#x27;,\n",
       "                                                                          &#x27;RecipeCode&#x27;,\n",
       "                                                                          &#x27;UserReputation&#x27;,\n",
       "                                                                          &#x27;ReplyCount&#x27;,\n",
       "                                                                          &#x27;ThumbsUpCount&#x27;,\n",
       "                                                                          &#x27;ThumbsDownCount&#x27;,\n",
       "                                                                          &#x27;BestScore&#x27;]),\n",
       "                                                                        (&#x27;vect2&#x27;,\n",
       "                                                                         CountVectorizer(max_featu...\n",
       "                                                                                         stop_words=&#x27;english&#x27;),\n",
       "                                                                         &#x27;Recipe_Review&#x27;)])),\n",
       "                                       (&#x27;dense&#x27;,\n",
       "                                        FunctionTransformer(accept_sparse=True,\n",
       "                                                            func=&lt;function &lt;lambda&gt; at 0x0000020C823E25F0&gt;)),\n",
       "                                       (&#x27;scaler&#x27;, StandardScaler()),\n",
       "                                       (&#x27;clsf&#x27;,\n",
       "                                        LogisticRegression(n_jobs=-1))]),\n",
       "             n_jobs=-1,\n",
       "             param_grid={&#x27;clsf__C&#x27;: [0.005, 0.01, 0.02],\n",
       "                         &#x27;clsf__l1_ratio&#x27;: [0.5, 0.2],\n",
       "                         &#x27;clsf__max_iter&#x27;: [20, 30, 15],\n",
       "                         &#x27;clsf__penalty&#x27;: [&#x27;elasticnet&#x27;],\n",
       "                         &#x27;clsf__solver&#x27;: [&#x27;saga&#x27;]})</pre><b>In a Jupyter environment, please rerun this cell to show the HTML representation or trust the notebook. <br />On GitHub, the HTML representation is unable to render, please try loading this page with nbviewer.org.</b></div><div class=\"sk-container\" hidden><div class=\"sk-item sk-dashed-wrapped\"><div class=\"sk-label-container\"><div class=\"sk-label sk-toggleable\"><input class=\"sk-toggleable__control sk-hidden--visually\" id=\"sk-estimator-id-192\" type=\"checkbox\" ><label for=\"sk-estimator-id-192\" class=\"sk-toggleable__label sk-toggleable__label-arrow\">GridSearchCV</label><div class=\"sk-toggleable__content\"><pre>GridSearchCV(cv=4, error_score=0,\n",
       "             estimator=Pipeline(steps=[(&#x27;imputer&#x27;,\n",
       "                                        SimpleImputer(fill_value=&#x27;No_Review&#x27;,\n",
       "                                                      strategy=&#x27;constant&#x27;)),\n",
       "                                       (&#x27;col_transform&#x27;,\n",
       "                                        ColumnTransformer(n_jobs=-1,\n",
       "                                                          transformers=[(&#x27;pass&#x27;,\n",
       "                                                                         &#x27;passthrough&#x27;,\n",
       "                                                                         [&#x27;RecipeNumber&#x27;,\n",
       "                                                                          &#x27;RecipeCode&#x27;,\n",
       "                                                                          &#x27;UserReputation&#x27;,\n",
       "                                                                          &#x27;ReplyCount&#x27;,\n",
       "                                                                          &#x27;ThumbsUpCount&#x27;,\n",
       "                                                                          &#x27;ThumbsDownCount&#x27;,\n",
       "                                                                          &#x27;BestScore&#x27;]),\n",
       "                                                                        (&#x27;vect2&#x27;,\n",
       "                                                                         CountVectorizer(max_featu...\n",
       "                                                                                         stop_words=&#x27;english&#x27;),\n",
       "                                                                         &#x27;Recipe_Review&#x27;)])),\n",
       "                                       (&#x27;dense&#x27;,\n",
       "                                        FunctionTransformer(accept_sparse=True,\n",
       "                                                            func=&lt;function &lt;lambda&gt; at 0x0000020C823E25F0&gt;)),\n",
       "                                       (&#x27;scaler&#x27;, StandardScaler()),\n",
       "                                       (&#x27;clsf&#x27;,\n",
       "                                        LogisticRegression(n_jobs=-1))]),\n",
       "             n_jobs=-1,\n",
       "             param_grid={&#x27;clsf__C&#x27;: [0.005, 0.01, 0.02],\n",
       "                         &#x27;clsf__l1_ratio&#x27;: [0.5, 0.2],\n",
       "                         &#x27;clsf__max_iter&#x27;: [20, 30, 15],\n",
       "                         &#x27;clsf__penalty&#x27;: [&#x27;elasticnet&#x27;],\n",
       "                         &#x27;clsf__solver&#x27;: [&#x27;saga&#x27;]})</pre></div></div></div><div class=\"sk-parallel\"><div class=\"sk-parallel-item\"><div class=\"sk-item\"><div class=\"sk-label-container\"><div class=\"sk-label sk-toggleable\"><input class=\"sk-toggleable__control sk-hidden--visually\" id=\"sk-estimator-id-193\" type=\"checkbox\" ><label for=\"sk-estimator-id-193\" class=\"sk-toggleable__label sk-toggleable__label-arrow\">estimator: Pipeline</label><div class=\"sk-toggleable__content\"><pre>Pipeline(steps=[(&#x27;imputer&#x27;,\n",
       "                 SimpleImputer(fill_value=&#x27;No_Review&#x27;, strategy=&#x27;constant&#x27;)),\n",
       "                (&#x27;col_transform&#x27;,\n",
       "                 ColumnTransformer(n_jobs=-1,\n",
       "                                   transformers=[(&#x27;pass&#x27;, &#x27;passthrough&#x27;,\n",
       "                                                  [&#x27;RecipeNumber&#x27;, &#x27;RecipeCode&#x27;,\n",
       "                                                   &#x27;UserReputation&#x27;,\n",
       "                                                   &#x27;ReplyCount&#x27;,\n",
       "                                                   &#x27;ThumbsUpCount&#x27;,\n",
       "                                                   &#x27;ThumbsDownCount&#x27;,\n",
       "                                                   &#x27;BestScore&#x27;]),\n",
       "                                                 (&#x27;vect2&#x27;,\n",
       "                                                  CountVectorizer(max_features=2000,\n",
       "                                                                  stop_words=&#x27;english&#x27;),\n",
       "                                                  &#x27;Recipe_Review&#x27;)])),\n",
       "                (&#x27;dense&#x27;,\n",
       "                 FunctionTransformer(accept_sparse=True,\n",
       "                                     func=&lt;function &lt;lambda&gt; at 0x0000020C823E25F0&gt;)),\n",
       "                (&#x27;scaler&#x27;, StandardScaler()),\n",
       "                (&#x27;clsf&#x27;, LogisticRegression(n_jobs=-1))])</pre></div></div></div><div class=\"sk-serial\"><div class=\"sk-item\"><div class=\"sk-serial\"><div class=\"sk-item\"><div class=\"sk-estimator sk-toggleable\"><input class=\"sk-toggleable__control sk-hidden--visually\" id=\"sk-estimator-id-194\" type=\"checkbox\" ><label for=\"sk-estimator-id-194\" class=\"sk-toggleable__label sk-toggleable__label-arrow\">SimpleImputer</label><div class=\"sk-toggleable__content\"><pre>SimpleImputer(fill_value=&#x27;No_Review&#x27;, strategy=&#x27;constant&#x27;)</pre></div></div></div><div class=\"sk-item sk-dashed-wrapped\"><div class=\"sk-label-container\"><div class=\"sk-label sk-toggleable\"><input class=\"sk-toggleable__control sk-hidden--visually\" id=\"sk-estimator-id-195\" type=\"checkbox\" ><label for=\"sk-estimator-id-195\" class=\"sk-toggleable__label sk-toggleable__label-arrow\">col_transform: ColumnTransformer</label><div class=\"sk-toggleable__content\"><pre>ColumnTransformer(n_jobs=-1,\n",
       "                  transformers=[(&#x27;pass&#x27;, &#x27;passthrough&#x27;,\n",
       "                                 [&#x27;RecipeNumber&#x27;, &#x27;RecipeCode&#x27;,\n",
       "                                  &#x27;UserReputation&#x27;, &#x27;ReplyCount&#x27;,\n",
       "                                  &#x27;ThumbsUpCount&#x27;, &#x27;ThumbsDownCount&#x27;,\n",
       "                                  &#x27;BestScore&#x27;]),\n",
       "                                (&#x27;vect2&#x27;,\n",
       "                                 CountVectorizer(max_features=2000,\n",
       "                                                 stop_words=&#x27;english&#x27;),\n",
       "                                 &#x27;Recipe_Review&#x27;)])</pre></div></div></div><div class=\"sk-parallel\"><div class=\"sk-parallel-item\"><div class=\"sk-item\"><div class=\"sk-label-container\"><div class=\"sk-label sk-toggleable\"><input class=\"sk-toggleable__control sk-hidden--visually\" id=\"sk-estimator-id-196\" type=\"checkbox\" ><label for=\"sk-estimator-id-196\" class=\"sk-toggleable__label sk-toggleable__label-arrow\">pass</label><div class=\"sk-toggleable__content\"><pre>[&#x27;RecipeNumber&#x27;, &#x27;RecipeCode&#x27;, &#x27;UserReputation&#x27;, &#x27;ReplyCount&#x27;, &#x27;ThumbsUpCount&#x27;, &#x27;ThumbsDownCount&#x27;, &#x27;BestScore&#x27;]</pre></div></div></div><div class=\"sk-serial\"><div class=\"sk-item\"><div class=\"sk-estimator sk-toggleable\"><input class=\"sk-toggleable__control sk-hidden--visually\" id=\"sk-estimator-id-197\" type=\"checkbox\" ><label for=\"sk-estimator-id-197\" class=\"sk-toggleable__label sk-toggleable__label-arrow\">passthrough</label><div class=\"sk-toggleable__content\"><pre>passthrough</pre></div></div></div></div></div></div><div class=\"sk-parallel-item\"><div class=\"sk-item\"><div class=\"sk-label-container\"><div class=\"sk-label sk-toggleable\"><input class=\"sk-toggleable__control sk-hidden--visually\" id=\"sk-estimator-id-198\" type=\"checkbox\" ><label for=\"sk-estimator-id-198\" class=\"sk-toggleable__label sk-toggleable__label-arrow\">vect2</label><div class=\"sk-toggleable__content\"><pre>Recipe_Review</pre></div></div></div><div class=\"sk-serial\"><div class=\"sk-item\"><div class=\"sk-estimator sk-toggleable\"><input class=\"sk-toggleable__control sk-hidden--visually\" id=\"sk-estimator-id-199\" type=\"checkbox\" ><label for=\"sk-estimator-id-199\" class=\"sk-toggleable__label sk-toggleable__label-arrow\">CountVectorizer</label><div class=\"sk-toggleable__content\"><pre>CountVectorizer(max_features=2000, stop_words=&#x27;english&#x27;)</pre></div></div></div></div></div></div></div></div><div class=\"sk-item\"><div class=\"sk-estimator sk-toggleable\"><input class=\"sk-toggleable__control sk-hidden--visually\" id=\"sk-estimator-id-200\" type=\"checkbox\" ><label for=\"sk-estimator-id-200\" class=\"sk-toggleable__label sk-toggleable__label-arrow\">FunctionTransformer</label><div class=\"sk-toggleable__content\"><pre>FunctionTransformer(accept_sparse=True,\n",
       "                    func=&lt;function &lt;lambda&gt; at 0x0000020C823E25F0&gt;)</pre></div></div></div><div class=\"sk-item\"><div class=\"sk-estimator sk-toggleable\"><input class=\"sk-toggleable__control sk-hidden--visually\" id=\"sk-estimator-id-201\" type=\"checkbox\" ><label for=\"sk-estimator-id-201\" class=\"sk-toggleable__label sk-toggleable__label-arrow\">StandardScaler</label><div class=\"sk-toggleable__content\"><pre>StandardScaler()</pre></div></div></div><div class=\"sk-item\"><div class=\"sk-estimator sk-toggleable\"><input class=\"sk-toggleable__control sk-hidden--visually\" id=\"sk-estimator-id-202\" type=\"checkbox\" ><label for=\"sk-estimator-id-202\" class=\"sk-toggleable__label sk-toggleable__label-arrow\">LogisticRegression</label><div class=\"sk-toggleable__content\"><pre>LogisticRegression(n_jobs=-1)</pre></div></div></div></div></div></div></div></div></div></div></div></div>"
      ],
      "text/plain": [
       "GridSearchCV(cv=4, error_score=0,\n",
       "             estimator=Pipeline(steps=[('imputer',\n",
       "                                        SimpleImputer(fill_value='No_Review',\n",
       "                                                      strategy='constant')),\n",
       "                                       ('col_transform',\n",
       "                                        ColumnTransformer(n_jobs=-1,\n",
       "                                                          transformers=[('pass',\n",
       "                                                                         'passthrough',\n",
       "                                                                         ['RecipeNumber',\n",
       "                                                                          'RecipeCode',\n",
       "                                                                          'UserReputation',\n",
       "                                                                          'ReplyCount',\n",
       "                                                                          'ThumbsUpCount',\n",
       "                                                                          'ThumbsDownCount',\n",
       "                                                                          'BestScore']),\n",
       "                                                                        ('vect2',\n",
       "                                                                         CountVectorizer(max_featu...\n",
       "                                                                                         stop_words='english'),\n",
       "                                                                         'Recipe_Review')])),\n",
       "                                       ('dense',\n",
       "                                        FunctionTransformer(accept_sparse=True,\n",
       "                                                            func=<function <lambda> at 0x0000020C823E25F0>)),\n",
       "                                       ('scaler', StandardScaler()),\n",
       "                                       ('clsf',\n",
       "                                        LogisticRegression(n_jobs=-1))]),\n",
       "             n_jobs=-1,\n",
       "             param_grid={'clsf__C': [0.005, 0.01, 0.02],\n",
       "                         'clsf__l1_ratio': [0.5, 0.2],\n",
       "                         'clsf__max_iter': [20, 30, 15],\n",
       "                         'clsf__penalty': ['elasticnet'],\n",
       "                         'clsf__solver': ['saga']})"
      ]
     },
     "execution_count": 157,
     "metadata": {},
     "output_type": "execute_result"
    }
   ],
   "source": [
    "gscv=GridSearchCV(log_reg_pipeline, {'clsf__penalty': ['elasticnet'],\n",
    "                                     'clsf__C': [0.005, 0.01, 0.02],\n",
    "                                     'clsf__solver': ['saga'],\n",
    "                                     'clsf__max_iter': [15, 10],\n",
    "                                     'clsf__l1_ratio': [0.5, 0.2]},\n",
    "                                     cv=4, n_jobs=-1, error_score=0)\n",
    "gscv.fit(X_train, y_train)"
   ]
  },
  {
   "cell_type": "code",
   "execution_count": 158,
   "metadata": {},
   "outputs": [
    {
     "data": {
      "text/plain": [
       "({'clsf__C': 0.01,\n",
       "  'clsf__l1_ratio': 0.2,\n",
       "  'clsf__max_iter': 15,\n",
       "  'clsf__penalty': 'elasticnet',\n",
       "  'clsf__solver': 'saga'},\n",
       " 0.7703138750366677)"
      ]
     },
     "execution_count": 158,
     "metadata": {},
     "output_type": "execute_result"
    }
   ],
   "source": [
    "gscv.best_params_, gscv.best_score_"
   ]
  },
  {
   "cell_type": "code",
   "execution_count": 159,
   "metadata": {},
   "outputs": [],
   "source": [
    "train_predict=gscv.best_estimator_.predict(X_train)\n",
    "test_predict=gscv.best_estimator_.predict(test_data)"
   ]
  },
  {
   "cell_type": "code",
   "execution_count": 160,
   "metadata": {},
   "outputs": [
    {
     "data": {
      "text/plain": [
       "0.8049281314168378"
      ]
     },
     "execution_count": 160,
     "metadata": {},
     "output_type": "execute_result"
    }
   ],
   "source": [
    "accuracy_score(y_train, train_predict)"
   ]
  },
  {
   "cell_type": "code",
   "execution_count": 145,
   "metadata": {},
   "outputs": [
    {
     "data": {
      "image/png": "[encoded data removed]",
      "text/plain": [
       "<Figure size 640x480 with 2 Axes>"
      ]
     },
     "metadata": {},
     "output_type": "display_data"
    }
   ],
   "source": [
    "ConfusionMatrixDisplay.from_predictions(y_train, train_predict, display_labels=gscv.best_estimator_.classes_)\n",
    "plt.grid(False)"
   ]
  },
  {
   "cell_type": "code",
   "execution_count": 146,
   "metadata": {},
   "outputs": [
    {
     "name": "stdout",
     "output_type": "stream",
     "text": [
      "              precision    recall  f1-score   support\n",
      "\n",
      "           0       0.77      0.23      0.35      1272\n",
      "           1       0.87      0.36      0.51       210\n",
      "           2       0.92      0.14      0.24       174\n",
      "           3       0.78      0.23      0.35       368\n",
      "           4       0.77      0.27      0.40      1241\n",
      "           5       0.82      0.99      0.90     10371\n",
      "\n",
      "    accuracy                           0.82     13636\n",
      "   macro avg       0.82      0.37      0.46     13636\n",
      "weighted avg       0.81      0.82      0.77     13636\n",
      "\n"
     ]
    }
   ],
   "source": [
    "print(classification_report(y_train, train_predict))"
   ]
  },
  {
   "cell_type": "markdown",
   "metadata": {},
   "source": [
    "## Dummy Classifier"
   ]
  },
  {
   "cell_type": "code",
   "execution_count": 121,
   "metadata": {},
   "outputs": [
    {
     "data": {
      "text/plain": [
       "0.7605602816075095"
      ]
     },
     "execution_count": 121,
     "metadata": {},
     "output_type": "execute_result"
    }
   ],
   "source": [
    "dummy=DummyClassifier()\n",
    "dummy.fit(X_train, y_train)\n",
    "dummy.score(X_train, y_train)"
   ]
  },
  {
   "cell_type": "code",
   "execution_count": 127,
   "metadata": {},
   "outputs": [
    {
     "data": {
      "image/png": "[encoded data removed]",
      "text/plain": [
       "<Figure size 640x480 with 2 Axes>"
      ]
     },
     "metadata": {},
     "output_type": "display_data"
    }
   ],
   "source": [
    "ConfusionMatrixDisplay.from_estimator(dummy, X_train, y_train)\n",
    "plt.grid(False)"
   ]
  },
  {
   "cell_type": "code",
   "execution_count": 130,
   "metadata": {},
   "outputs": [
    {
     "name": "stdout",
     "output_type": "stream",
     "text": [
      "              precision    recall  f1-score   support\n",
      "\n",
      "           0        nan      0.00       nan      1272\n",
      "           1        nan      0.00       nan       210\n",
      "           2        nan      0.00       nan       174\n",
      "           3        nan      0.00       nan       368\n",
      "           4        nan      0.00       nan      1241\n",
      "           5       0.76      1.00      0.86     10371\n",
      "\n",
      "    accuracy                           0.76     13636\n",
      "   macro avg       0.76      0.17      0.86     13636\n",
      "weighted avg       0.76      0.76      0.86     13636\n",
      "\n"
     ]
    }
   ],
   "source": [
    "print(classification_report(y_train, dummy.predict(X_train), zero_division=np.nan))"
   ]
  }
 ],
 "metadata": {
  "kernelspec": {
   "display_name": "Python 3",
   "language": "python",
   "name": "python3"
  },
  "language_info": {
   "codemirror_mode": {
    "name": "ipython",
    "version": 3
   },
   "file_extension": ".py",
   "mimetype": "text/x-python",
   "name": "python",
   "nbconvert_exporter": "python",
   "pygments_lexer": "ipython3",
   "version": "3.10.6"
  }
 },
 "nbformat": 4,
 "nbformat_minor": 2
}
