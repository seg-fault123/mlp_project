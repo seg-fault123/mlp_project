{
 "cells": [
  {
   "cell_type": "code",
   "execution_count": 1,
   "metadata": {},
   "outputs": [],
   "source": [
    "# # This Python 3 environment comes with many helpful analytics libraries installed\n",
    "# # It is defined by the kaggle/python Docker image: https://github.com/kaggle/docker-python\n",
    "# # For example, here's several helpful packages to load\n",
    "\n",
    "# import numpy as np # linear algebra\n",
    "# import pandas as pd # data processing, CSV file I/O (e.g. pd.read_csv)\n",
    "\n",
    "# # Input data files are available in the read-only \"../input/\" directory\n",
    "# # For example, running this (by clicking run or pressing Shift+Enter) will list all files under the input directory\n",
    "\n",
    "# import os\n",
    "# for dirname, _, filenames in os.walk('/kaggle/input'):\n",
    "#     for filename in filenames:\n",
    "#         print(os.path.join(dirname, filename))\n",
    "\n",
    "# # You can write up to 20GB to the current directory (/kaggle/working/) that gets preserved as output when you create a version using \"Save & Run All\" \n",
    "# # You can also write temporary files to /kaggle/temp/, but they won't be saved outside of the current session"
   ]
  },
  {
   "cell_type": "code",
   "execution_count": 2,
   "metadata": {},
   "outputs": [],
   "source": [
    "import numpy as np\n",
    "import pandas as pd"
   ]
  },
  {
   "cell_type": "markdown",
   "metadata": {},
   "source": [
    "## Imports"
   ]
  },
  {
   "cell_type": "code",
   "execution_count": 13,
   "metadata": {},
   "outputs": [],
   "source": [
    "from sklearn.linear_model import LogisticRegression\n",
    "from sklearn.dummy import DummyClassifier\n",
    "from sklearn.feature_extraction.text import CountVectorizer\n",
    "from sklearn.preprocessing import StandardScaler, OneHotEncoder, OrdinalEncoder\n",
    "from sklearn.impute import SimpleImputer\n",
    "from sklearn.pipeline import Pipeline\n",
    "from sklearn.compose import ColumnTransformer\n",
    "from sklearn.model_selection import GridSearchCV\n",
    "from sklearn.decomposition import PCA\n",
    "from sklearn.metrics import ConfusionMatrixDisplay, classification_report\n",
    "import matplotlib.pyplot as plt\n",
    "import seaborn as sns\n",
    "sns.set()"
   ]
  },
  {
   "cell_type": "markdown",
   "metadata": {},
   "source": [
    "## Loading training and testing data"
   ]
  },
  {
   "cell_type": "code",
   "execution_count": 4,
   "metadata": {},
   "outputs": [],
   "source": [
    "train_data=pd.read_csv('train.csv')\n",
    "test_data=pd.read_csv('test.csv')\n",
    "# train_data=pd.read_csv('/kaggle/input/recipe-for-rating-predict-food-ratings-using-ml/train.csv')\n",
    "# test_data=pd.read_csv('/kaggle/input/recipe-for-rating-predict-food-ratings-using-ml/test.csv')"
   ]
  },
  {
   "cell_type": "code",
   "execution_count": 5,
   "metadata": {},
   "outputs": [
    {
     "data": {
      "text/plain": [
       "Index(['ID', 'RecipeNumber', 'RecipeCode', 'RecipeName', 'CommentID', 'UserID',\n",
       "       'UserName', 'UserReputation', 'CreationTimestamp', 'ReplyCount',\n",
       "       'ThumbsUpCount', 'ThumbsDownCount', 'Rating', 'BestScore',\n",
       "       'Recipe_Review'],\n",
       "      dtype='object')"
      ]
     },
     "execution_count": 5,
     "metadata": {},
     "output_type": "execute_result"
    }
   ],
   "source": [
    "train_data.columns"
   ]
  },
  {
   "cell_type": "markdown",
   "metadata": {},
   "source": [
    "## To Do:-\n",
    "1) Add Day and Hour to the dataset\n",
    "2) Apply Simple Imputer\n",
    "3) One Hot encode the Day Column\n",
    "3) Apply Count Vectorizer to the text columns\n",
    "4) Apply Standard Scaler\n",
    "5) Apply Logistic Regression"
   ]
  },
  {
   "cell_type": "code",
   "execution_count": 6,
   "metadata": {},
   "outputs": [],
   "source": [
    "def add_features(X):\n",
    "    X['Date']=pd.to_datetime(X['CreationTimestamp'], unit='s')\n",
    "    X['Day']=X['Date'].dt.day_name()\n",
    "    X['Hour']=X['Date'].apply(lambda x: x.hour + x.minute/60)\n",
    "    return X\n",
    "\n",
    "train_data=add_features(train_data)\n",
    "test_data=add_features(test_data)\n"
   ]
  },
  {
   "cell_type": "code",
   "execution_count": 7,
   "metadata": {},
   "outputs": [
    {
     "data": {
      "text/plain": [
       "Index(['ID', 'RecipeNumber', 'RecipeCode', 'RecipeName', 'CommentID', 'UserID',\n",
       "       'UserName', 'UserReputation', 'CreationTimestamp', 'ReplyCount',\n",
       "       'ThumbsUpCount', 'ThumbsDownCount', 'Rating', 'BestScore',\n",
       "       'Recipe_Review', 'Date', 'Day', 'Hour'],\n",
       "      dtype='object')"
      ]
     },
     "execution_count": 7,
     "metadata": {},
     "output_type": "execute_result"
    }
   ],
   "source": [
    "train_data.columns"
   ]
  },
  {
   "cell_type": "code",
   "execution_count": 8,
   "metadata": {},
   "outputs": [],
   "source": [
    "X_train, y_train=train_data.drop('Rating', axis=1), train_data['Rating']"
   ]
  },
  {
   "cell_type": "code",
   "execution_count": 9,
   "metadata": {},
   "outputs": [
    {
     "data": {
      "text/html": [
       "<div>\n",
       "<style scoped>\n",
       "    .dataframe tbody tr th:only-of-type {\n",
       "        vertical-align: middle;\n",
       "    }\n",
       "\n",
       "    .dataframe tbody tr th {\n",
       "        vertical-align: top;\n",
       "    }\n",
       "\n",
       "    .dataframe thead th {\n",
       "        text-align: right;\n",
       "    }\n",
       "</style>\n",
       "<table border=\"1\" class=\"dataframe\">\n",
       "  <thead>\n",
       "    <tr style=\"text-align: right;\">\n",
       "      <th></th>\n",
       "      <th>RecipeName</th>\n",
       "      <th>RecipeCode</th>\n",
       "    </tr>\n",
       "    <tr>\n",
       "      <th>RecipeNumber</th>\n",
       "      <th></th>\n",
       "      <th></th>\n",
       "    </tr>\n",
       "  </thead>\n",
       "  <tbody>\n",
       "    <tr>\n",
       "      <th>71</th>\n",
       "      <td>Banana Bars with Cream Cheese Frosting</td>\n",
       "      <td>12259</td>\n",
       "    </tr>\n",
       "    <tr>\n",
       "      <th>88</th>\n",
       "      <td>Simple Taco Soup</td>\n",
       "      <td>8202</td>\n",
       "    </tr>\n",
       "    <tr>\n",
       "      <th>3</th>\n",
       "      <td>Cheeseburger Soup</td>\n",
       "      <td>2832</td>\n",
       "    </tr>\n",
       "    <tr>\n",
       "      <th>50</th>\n",
       "      <td>Grilled Huli Huli Chicken</td>\n",
       "      <td>100276</td>\n",
       "    </tr>\n",
       "    <tr>\n",
       "      <th>12</th>\n",
       "      <td>Cauliflower Soup</td>\n",
       "      <td>19731</td>\n",
       "    </tr>\n",
       "  </tbody>\n",
       "</table>\n",
       "</div>"
      ],
      "text/plain": [
       "                                          RecipeName  RecipeCode\n",
       "RecipeNumber                                                    \n",
       "71            Banana Bars with Cream Cheese Frosting       12259\n",
       "88                                  Simple Taco Soup        8202\n",
       "3                                  Cheeseburger Soup        2832\n",
       "50                         Grilled Huli Huli Chicken      100276\n",
       "12                                  Cauliflower Soup       19731"
      ]
     },
     "execution_count": 9,
     "metadata": {},
     "output_type": "execute_result"
    }
   ],
   "source": [
    "recipe_df=train_data[['RecipeNumber', 'RecipeName', 'RecipeCode']].copy()\n",
    "recipe_df.set_index('RecipeNumber', inplace=True)\n",
    "recipe_df.drop_duplicates(inplace=True)\n",
    "recipe_df.head()"
   ]
  },
  {
   "cell_type": "code",
   "execution_count": 10,
   "metadata": {},
   "outputs": [
    {
     "data": {
      "text/plain": [
       "Index(['ID', 'RecipeNumber', 'RecipeCode', 'RecipeName', 'CommentID', 'UserID',\n",
       "       'UserName', 'UserReputation', 'CreationTimestamp', 'ReplyCount',\n",
       "       'ThumbsUpCount', 'ThumbsDownCount', 'BestScore', 'Recipe_Review',\n",
       "       'Date', 'Day', 'Hour'],\n",
       "      dtype='object')"
      ]
     },
     "execution_count": 10,
     "metadata": {},
     "output_type": "execute_result"
    }
   ],
   "source": [
    "X_train.columns"
   ]
  },
  {
   "cell_type": "code",
   "execution_count": 11,
   "metadata": {},
   "outputs": [
    {
     "data": {
      "text/html": [
       "<div>\n",
       "<style scoped>\n",
       "    .dataframe tbody tr th:only-of-type {\n",
       "        vertical-align: middle;\n",
       "    }\n",
       "\n",
       "    .dataframe tbody tr th {\n",
       "        vertical-align: top;\n",
       "    }\n",
       "\n",
       "    .dataframe thead th {\n",
       "        text-align: right;\n",
       "    }\n",
       "</style>\n",
       "<table border=\"1\" class=\"dataframe\">\n",
       "  <thead>\n",
       "    <tr style=\"text-align: right;\">\n",
       "      <th></th>\n",
       "      <th>ID</th>\n",
       "      <th>RecipeNumber</th>\n",
       "      <th>RecipeCode</th>\n",
       "      <th>RecipeName</th>\n",
       "      <th>CommentID</th>\n",
       "      <th>UserID</th>\n",
       "      <th>UserName</th>\n",
       "      <th>UserReputation</th>\n",
       "      <th>CreationTimestamp</th>\n",
       "      <th>ReplyCount</th>\n",
       "      <th>ThumbsUpCount</th>\n",
       "      <th>ThumbsDownCount</th>\n",
       "      <th>BestScore</th>\n",
       "      <th>Recipe_Review</th>\n",
       "      <th>Date</th>\n",
       "      <th>Day</th>\n",
       "      <th>Hour</th>\n",
       "    </tr>\n",
       "  </thead>\n",
       "  <tbody>\n",
       "    <tr>\n",
       "      <th>0</th>\n",
       "      <td>70</td>\n",
       "      <td>71</td>\n",
       "      <td>12259</td>\n",
       "      <td>Banana Bars with Cream Cheese Frosting</td>\n",
       "      <td>sp_aUSaElGf_12259_c_149978</td>\n",
       "      <td>u_1oKVaBmiEKwAFyiHrDLoWpbel0J</td>\n",
       "      <td>misscoffeepot</td>\n",
       "      <td>20</td>\n",
       "      <td>1622717078</td>\n",
       "      <td>0</td>\n",
       "      <td>0</td>\n",
       "      <td>0</td>\n",
       "      <td>100</td>\n",
       "      <td>great recipe! I have made them just as written...</td>\n",
       "      <td>2021-06-03 10:44:38</td>\n",
       "      <td>Thursday</td>\n",
       "      <td>10.733333</td>\n",
       "    </tr>\n",
       "    <tr>\n",
       "      <th>1</th>\n",
       "      <td>72</td>\n",
       "      <td>88</td>\n",
       "      <td>8202</td>\n",
       "      <td>Simple Taco Soup</td>\n",
       "      <td>sp_aUSaElGf_8202_c_310332</td>\n",
       "      <td>u_1oKZeRIXYzGNhGW8OMR3O4lX1ih</td>\n",
       "      <td>MichelleMalone</td>\n",
       "      <td>1</td>\n",
       "      <td>1622717852</td>\n",
       "      <td>0</td>\n",
       "      <td>0</td>\n",
       "      <td>1</td>\n",
       "      <td>100</td>\n",
       "      <td>This is an easy and quick recipe that is great...</td>\n",
       "      <td>2021-06-03 10:57:32</td>\n",
       "      <td>Thursday</td>\n",
       "      <td>10.950000</td>\n",
       "    </tr>\n",
       "    <tr>\n",
       "      <th>2</th>\n",
       "      <td>458</td>\n",
       "      <td>3</td>\n",
       "      <td>2832</td>\n",
       "      <td>Cheeseburger Soup</td>\n",
       "      <td>sp_aUSaElGf_2832_c_206522</td>\n",
       "      <td>u_1oKYHUtdaD48KJCDYq5wfpAUxWz</td>\n",
       "      <td>jeannem32</td>\n",
       "      <td>1</td>\n",
       "      <td>1622717357</td>\n",
       "      <td>0</td>\n",
       "      <td>0</td>\n",
       "      <td>0</td>\n",
       "      <td>100</td>\n",
       "      <td>I think I was looking for something extra spec...</td>\n",
       "      <td>2021-06-03 10:49:17</td>\n",
       "      <td>Thursday</td>\n",
       "      <td>10.816667</td>\n",
       "    </tr>\n",
       "    <tr>\n",
       "      <th>3</th>\n",
       "      <td>7</td>\n",
       "      <td>50</td>\n",
       "      <td>100276</td>\n",
       "      <td>Grilled Huli Huli Chicken</td>\n",
       "      <td>sp_aUSaElGf_100276_c_434088</td>\n",
       "      <td>u_1oKZCQcKQZdQhDVBS7oISc216VA</td>\n",
       "      <td>ds422</td>\n",
       "      <td>1</td>\n",
       "      <td>1622648899</td>\n",
       "      <td>0</td>\n",
       "      <td>0</td>\n",
       "      <td>0</td>\n",
       "      <td>100</td>\n",
       "      <td>This is our favorite grilled chicken recipe.  ...</td>\n",
       "      <td>2021-06-02 15:48:19</td>\n",
       "      <td>Wednesday</td>\n",
       "      <td>15.800000</td>\n",
       "    </tr>\n",
       "    <tr>\n",
       "      <th>4</th>\n",
       "      <td>60</td>\n",
       "      <td>12</td>\n",
       "      <td>19731</td>\n",
       "      <td>Cauliflower Soup</td>\n",
       "      <td>sp_aUSaElGf_19731_c_387011</td>\n",
       "      <td>u_1oKd4sudZQPgu6YALiC7bW7mKMs</td>\n",
       "      <td>SusanHoward</td>\n",
       "      <td>1</td>\n",
       "      <td>1622718260</td>\n",
       "      <td>0</td>\n",
       "      <td>0</td>\n",
       "      <td>0</td>\n",
       "      <td>100</td>\n",
       "      <td>Great basic recipe. I added 2 teaspoons Tuscan...</td>\n",
       "      <td>2021-06-03 11:04:20</td>\n",
       "      <td>Thursday</td>\n",
       "      <td>11.066667</td>\n",
       "    </tr>\n",
       "  </tbody>\n",
       "</table>\n",
       "</div>"
      ],
      "text/plain": [
       "    ID  RecipeNumber  RecipeCode                              RecipeName  \\\n",
       "0   70            71       12259  Banana Bars with Cream Cheese Frosting   \n",
       "1   72            88        8202                        Simple Taco Soup   \n",
       "2  458             3        2832                       Cheeseburger Soup   \n",
       "3    7            50      100276               Grilled Huli Huli Chicken   \n",
       "4   60            12       19731                        Cauliflower Soup   \n",
       "\n",
       "                     CommentID                         UserID        UserName  \\\n",
       "0   sp_aUSaElGf_12259_c_149978  u_1oKVaBmiEKwAFyiHrDLoWpbel0J   misscoffeepot   \n",
       "1    sp_aUSaElGf_8202_c_310332  u_1oKZeRIXYzGNhGW8OMR3O4lX1ih  MichelleMalone   \n",
       "2    sp_aUSaElGf_2832_c_206522  u_1oKYHUtdaD48KJCDYq5wfpAUxWz       jeannem32   \n",
       "3  sp_aUSaElGf_100276_c_434088  u_1oKZCQcKQZdQhDVBS7oISc216VA           ds422   \n",
       "4   sp_aUSaElGf_19731_c_387011  u_1oKd4sudZQPgu6YALiC7bW7mKMs     SusanHoward   \n",
       "\n",
       "   UserReputation  CreationTimestamp  ReplyCount  ThumbsUpCount  \\\n",
       "0              20         1622717078           0              0   \n",
       "1               1         1622717852           0              0   \n",
       "2               1         1622717357           0              0   \n",
       "3               1         1622648899           0              0   \n",
       "4               1         1622718260           0              0   \n",
       "\n",
       "   ThumbsDownCount  BestScore  \\\n",
       "0                0        100   \n",
       "1                1        100   \n",
       "2                0        100   \n",
       "3                0        100   \n",
       "4                0        100   \n",
       "\n",
       "                                       Recipe_Review                Date  \\\n",
       "0  great recipe! I have made them just as written... 2021-06-03 10:44:38   \n",
       "1  This is an easy and quick recipe that is great... 2021-06-03 10:57:32   \n",
       "2  I think I was looking for something extra spec... 2021-06-03 10:49:17   \n",
       "3  This is our favorite grilled chicken recipe.  ... 2021-06-02 15:48:19   \n",
       "4  Great basic recipe. I added 2 teaspoons Tuscan... 2021-06-03 11:04:20   \n",
       "\n",
       "         Day       Hour  \n",
       "0   Thursday  10.733333  \n",
       "1   Thursday  10.950000  \n",
       "2   Thursday  10.816667  \n",
       "3  Wednesday  15.800000  \n",
       "4   Thursday  11.066667  "
      ]
     },
     "execution_count": 11,
     "metadata": {},
     "output_type": "execute_result"
    }
   ],
   "source": [
    "X_train.head()"
   ]
  },
  {
   "cell_type": "code",
   "execution_count": 12,
   "metadata": {},
   "outputs": [
    {
     "data": {
      "text/plain": [
       "ID                            int64\n",
       "RecipeNumber                  int64\n",
       "RecipeCode                    int64\n",
       "RecipeName                   object\n",
       "CommentID                    object\n",
       "UserID                       object\n",
       "UserName                     object\n",
       "UserReputation                int64\n",
       "CreationTimestamp             int64\n",
       "ReplyCount                    int64\n",
       "ThumbsUpCount                 int64\n",
       "ThumbsDownCount               int64\n",
       "BestScore                     int64\n",
       "Recipe_Review                object\n",
       "Date                 datetime64[ns]\n",
       "Day                          object\n",
       "Hour                        float64\n",
       "dtype: object"
      ]
     },
     "execution_count": 12,
     "metadata": {},
     "output_type": "execute_result"
    }
   ],
   "source": [
    "X_train.dtypes"
   ]
  },
  {
   "cell_type": "code",
   "execution_count": 19,
   "metadata": {},
   "outputs": [],
   "source": [
    "col_transform=ColumnTransformer([('vect1', CountVectorizer(stop_words='english'), 'RecipeName'),\n",
    "                                 ('vect2', CountVectorizer(stop_words='english'), 'Recipe_Review'),\n",
    "                                 ('day', OneHotEncoder(), ['Day']),\n",
    "                                 ('pass', 'passthrough', ['RecipeNumber', 'RecipeCode', 'UserReputation',\n",
    "                                                          'ReplyCount', 'ThumbsUpCount', 'ThumbsDownCount',\n",
    "                                                          'BestScore', 'Hour'])])\n",
    "log_reg_pipeline=Pipeline([('imputer', SimpleImputer(fill_value='No_Review', strategy='constant').set_output(transform='pandas')),\n",
    "                           ('col_transform', col_transform),\n",
    "                           ('scaler', StandardScaler(with_mean=False)),\n",
    "                           \n",
    "                           ('clsf', LogisticRegression())])\n",
    "                           \n",
    "# log_reg_pipeline.fit(X_train, y_train)\n"
   ]
  },
  {
   "cell_type": "code",
   "execution_count": 141,
   "metadata": {},
   "outputs": [
    {
     "data": {
      "text/plain": [
       "0.98657964212379"
      ]
     },
     "execution_count": 141,
     "metadata": {},
     "output_type": "execute_result"
    }
   ],
   "source": [
    "predictions=log_reg_pipeline.predict(X_train)\n",
    "log_reg_pipeline.score(X_train, y_train)"
   ]
  },
  {
   "cell_type": "code",
   "execution_count": 138,
   "metadata": {},
   "outputs": [
    {
     "data": {
      "image/png": "[encoded data removed]",
      "text/plain": [
       "<Figure size 640x480 with 2 Axes>"
      ]
     },
     "metadata": {},
     "output_type": "display_data"
    }
   ],
   "source": [
    "ConfusionMatrixDisplay.from_estimator(log_reg_pipeline, X_train, y_train)\n",
    "plt.grid(False)"
   ]
  },
  {
   "cell_type": "code",
   "execution_count": 139,
   "metadata": {},
   "outputs": [
    {
     "name": "stdout",
     "output_type": "stream",
     "text": [
      "              precision    recall  f1-score   support\n",
      "\n",
      "           0       0.99      0.93      0.96      1272\n",
      "           1       1.00      1.00      1.00       210\n",
      "           2       1.00      0.99      1.00       174\n",
      "           3       0.99      0.99      0.99       368\n",
      "           4       0.99      0.95      0.97      1241\n",
      "           5       0.99      1.00      0.99     10371\n",
      "\n",
      "    accuracy                           0.99     13636\n",
      "   macro avg       0.99      0.98      0.98     13636\n",
      "weighted avg       0.99      0.99      0.99     13636\n",
      "\n"
     ]
    }
   ],
   "source": [
    "print(classification_report(y_train, predictions))"
   ]
  },
  {
   "cell_type": "code",
   "execution_count": 21,
   "metadata": {},
   "outputs": [
    {
     "name": "stderr",
     "output_type": "stream",
     "text": [
      "d:\\compiler\\lib\\site-packages\\sklearn\\linear_model\\_sag.py:350: ConvergenceWarning: The max_iter was reached which means the coef_ did not converge\n",
      "  warnings.warn(\n"
     ]
    },
    {
     "data": {
      "text/html": [
       "<style>#sk-container-id-1 {color: black;}#sk-container-id-1 pre{padding: 0;}#sk-container-id-1 div.sk-toggleable {background-color: white;}#sk-container-id-1 label.sk-toggleable__label {cursor: pointer;display: block;width: 100%;margin-bottom: 0;padding: 0.3em;box-sizing: border-box;text-align: center;}#sk-container-id-1 label.sk-toggleable__label-arrow:before {content: \"▸\";float: left;margin-right: 0.25em;color: #696969;}#sk-container-id-1 label.sk-toggleable__label-arrow:hover:before {color: black;}#sk-container-id-1 div.sk-estimator:hover label.sk-toggleable__label-arrow:before {color: black;}#sk-container-id-1 div.sk-toggleable__content {max-height: 0;max-width: 0;overflow: hidden;text-align: left;background-color: #f0f8ff;}#sk-container-id-1 div.sk-toggleable__content pre {margin: 0.2em;color: black;border-radius: 0.25em;background-color: #f0f8ff;}#sk-container-id-1 input.sk-toggleable__control:checked~div.sk-toggleable__content {max-height: 200px;max-width: 100%;overflow: auto;}#sk-container-id-1 input.sk-toggleable__control:checked~label.sk-toggleable__label-arrow:before {content: \"▾\";}#sk-container-id-1 div.sk-estimator input.sk-toggleable__control:checked~label.sk-toggleable__label {background-color: #d4ebff;}#sk-container-id-1 div.sk-label input.sk-toggleable__control:checked~label.sk-toggleable__label {background-color: #d4ebff;}#sk-container-id-1 input.sk-hidden--visually {border: 0;clip: rect(1px 1px 1px 1px);clip: rect(1px, 1px, 1px, 1px);height: 1px;margin: -1px;overflow: hidden;padding: 0;position: absolute;width: 1px;}#sk-container-id-1 div.sk-estimator {font-family: monospace;background-color: #f0f8ff;border: 1px dotted black;border-radius: 0.25em;box-sizing: border-box;margin-bottom: 0.5em;}#sk-container-id-1 div.sk-estimator:hover {background-color: #d4ebff;}#sk-container-id-1 div.sk-parallel-item::after {content: \"\";width: 100%;border-bottom: 1px solid gray;flex-grow: 1;}#sk-container-id-1 div.sk-label:hover label.sk-toggleable__label {background-color: #d4ebff;}#sk-container-id-1 div.sk-serial::before {content: \"\";position: absolute;border-left: 1px solid gray;box-sizing: border-box;top: 0;bottom: 0;left: 50%;z-index: 0;}#sk-container-id-1 div.sk-serial {display: flex;flex-direction: column;align-items: center;background-color: white;padding-right: 0.2em;padding-left: 0.2em;position: relative;}#sk-container-id-1 div.sk-item {position: relative;z-index: 1;}#sk-container-id-1 div.sk-parallel {display: flex;align-items: stretch;justify-content: center;background-color: white;position: relative;}#sk-container-id-1 div.sk-item::before, #sk-container-id-1 div.sk-parallel-item::before {content: \"\";position: absolute;border-left: 1px solid gray;box-sizing: border-box;top: 0;bottom: 0;left: 50%;z-index: -1;}#sk-container-id-1 div.sk-parallel-item {display: flex;flex-direction: column;z-index: 1;position: relative;background-color: white;}#sk-container-id-1 div.sk-parallel-item:first-child::after {align-self: flex-end;width: 50%;}#sk-container-id-1 div.sk-parallel-item:last-child::after {align-self: flex-start;width: 50%;}#sk-container-id-1 div.sk-parallel-item:only-child::after {width: 0;}#sk-container-id-1 div.sk-dashed-wrapped {border: 1px dashed gray;margin: 0 0.4em 0.5em 0.4em;box-sizing: border-box;padding-bottom: 0.4em;background-color: white;}#sk-container-id-1 div.sk-label label {font-family: monospace;font-weight: bold;display: inline-block;line-height: 1.2em;}#sk-container-id-1 div.sk-label-container {text-align: center;}#sk-container-id-1 div.sk-container {/* jupyter's `normalize.less` sets `[hidden] { display: none; }` but bootstrap.min.css set `[hidden] { display: none !important; }` so we also need the `!important` here to be able to override the default hidden behavior on the sphinx rendered scikit-learn.org. See: https://github.com/scikit-learn/scikit-learn/issues/21755 */display: inline-block !important;position: relative;}#sk-container-id-1 div.sk-text-repr-fallback {display: none;}</style><div id=\"sk-container-id-1\" class=\"sk-top-container\"><div class=\"sk-text-repr-fallback\"><pre>GridSearchCV(cv=4, error_score=0,\n",
       "             estimator=Pipeline(steps=[(&#x27;imputer&#x27;,\n",
       "                                        SimpleImputer(fill_value=&#x27;No_Review&#x27;,\n",
       "                                                      strategy=&#x27;constant&#x27;)),\n",
       "                                       (&#x27;col_transform&#x27;,\n",
       "                                        ColumnTransformer(transformers=[(&#x27;vect1&#x27;,\n",
       "                                                                         CountVectorizer(stop_words=&#x27;english&#x27;),\n",
       "                                                                         &#x27;RecipeName&#x27;),\n",
       "                                                                        (&#x27;vect2&#x27;,\n",
       "                                                                         CountVectorizer(stop_words=&#x27;english&#x27;),\n",
       "                                                                         &#x27;Recipe_Review&#x27;),\n",
       "                                                                        (&#x27;day&#x27;,\n",
       "                                                                         OneHotEncoder(),\n",
       "                                                                         [&#x27;Day&#x27;]),\n",
       "                                                                        (&#x27;pass&#x27;,\n",
       "                                                                         &#x27;passthr...\n",
       "                                                                          &#x27;ThumbsDownCount&#x27;,\n",
       "                                                                          &#x27;BestScore&#x27;,\n",
       "                                                                          &#x27;Hour&#x27;])])),\n",
       "                                       (&#x27;scaler&#x27;,\n",
       "                                        StandardScaler(with_mean=False)),\n",
       "                                       (&#x27;clsf&#x27;, LogisticRegression())]),\n",
       "             n_jobs=-1,\n",
       "             param_grid={&#x27;clsf__C&#x27;: [0.01, 0.1, 0.2, 0.5, 0.8, 1],\n",
       "                         &#x27;clsf__l1_ratio&#x27;: [0, 0.2, 0.5, 0.8, 1],\n",
       "                         &#x27;clsf__max_iter&#x27;: [30, 50, 100, 150],\n",
       "                         &#x27;clsf__penalty&#x27;: [&#x27;elasticnet&#x27;],\n",
       "                         &#x27;clsf__solver&#x27;: [&#x27;saga&#x27;],\n",
       "                         &#x27;col_transform__vect2__max_features&#x27;: [50, 100, 500,\n",
       "                                                                1000]})</pre><b>In a Jupyter environment, please rerun this cell to show the HTML representation or trust the notebook. <br />On GitHub, the HTML representation is unable to render, please try loading this page with nbviewer.org.</b></div><div class=\"sk-container\" hidden><div class=\"sk-item sk-dashed-wrapped\"><div class=\"sk-label-container\"><div class=\"sk-label sk-toggleable\"><input class=\"sk-toggleable__control sk-hidden--visually\" id=\"sk-estimator-id-1\" type=\"checkbox\" ><label for=\"sk-estimator-id-1\" class=\"sk-toggleable__label sk-toggleable__label-arrow\">GridSearchCV</label><div class=\"sk-toggleable__content\"><pre>GridSearchCV(cv=4, error_score=0,\n",
       "             estimator=Pipeline(steps=[(&#x27;imputer&#x27;,\n",
       "                                        SimpleImputer(fill_value=&#x27;No_Review&#x27;,\n",
       "                                                      strategy=&#x27;constant&#x27;)),\n",
       "                                       (&#x27;col_transform&#x27;,\n",
       "                                        ColumnTransformer(transformers=[(&#x27;vect1&#x27;,\n",
       "                                                                         CountVectorizer(stop_words=&#x27;english&#x27;),\n",
       "                                                                         &#x27;RecipeName&#x27;),\n",
       "                                                                        (&#x27;vect2&#x27;,\n",
       "                                                                         CountVectorizer(stop_words=&#x27;english&#x27;),\n",
       "                                                                         &#x27;Recipe_Review&#x27;),\n",
       "                                                                        (&#x27;day&#x27;,\n",
       "                                                                         OneHotEncoder(),\n",
       "                                                                         [&#x27;Day&#x27;]),\n",
       "                                                                        (&#x27;pass&#x27;,\n",
       "                                                                         &#x27;passthr...\n",
       "                                                                          &#x27;ThumbsDownCount&#x27;,\n",
       "                                                                          &#x27;BestScore&#x27;,\n",
       "                                                                          &#x27;Hour&#x27;])])),\n",
       "                                       (&#x27;scaler&#x27;,\n",
       "                                        StandardScaler(with_mean=False)),\n",
       "                                       (&#x27;clsf&#x27;, LogisticRegression())]),\n",
       "             n_jobs=-1,\n",
       "             param_grid={&#x27;clsf__C&#x27;: [0.01, 0.1, 0.2, 0.5, 0.8, 1],\n",
       "                         &#x27;clsf__l1_ratio&#x27;: [0, 0.2, 0.5, 0.8, 1],\n",
       "                         &#x27;clsf__max_iter&#x27;: [30, 50, 100, 150],\n",
       "                         &#x27;clsf__penalty&#x27;: [&#x27;elasticnet&#x27;],\n",
       "                         &#x27;clsf__solver&#x27;: [&#x27;saga&#x27;],\n",
       "                         &#x27;col_transform__vect2__max_features&#x27;: [50, 100, 500,\n",
       "                                                                1000]})</pre></div></div></div><div class=\"sk-parallel\"><div class=\"sk-parallel-item\"><div class=\"sk-item\"><div class=\"sk-label-container\"><div class=\"sk-label sk-toggleable\"><input class=\"sk-toggleable__control sk-hidden--visually\" id=\"sk-estimator-id-2\" type=\"checkbox\" ><label for=\"sk-estimator-id-2\" class=\"sk-toggleable__label sk-toggleable__label-arrow\">estimator: Pipeline</label><div class=\"sk-toggleable__content\"><pre>Pipeline(steps=[(&#x27;imputer&#x27;,\n",
       "                 SimpleImputer(fill_value=&#x27;No_Review&#x27;, strategy=&#x27;constant&#x27;)),\n",
       "                (&#x27;col_transform&#x27;,\n",
       "                 ColumnTransformer(transformers=[(&#x27;vect1&#x27;,\n",
       "                                                  CountVectorizer(stop_words=&#x27;english&#x27;),\n",
       "                                                  &#x27;RecipeName&#x27;),\n",
       "                                                 (&#x27;vect2&#x27;,\n",
       "                                                  CountVectorizer(stop_words=&#x27;english&#x27;),\n",
       "                                                  &#x27;Recipe_Review&#x27;),\n",
       "                                                 (&#x27;day&#x27;, OneHotEncoder(),\n",
       "                                                  [&#x27;Day&#x27;]),\n",
       "                                                 (&#x27;pass&#x27;, &#x27;passthrough&#x27;,\n",
       "                                                  [&#x27;RecipeNumber&#x27;, &#x27;RecipeCode&#x27;,\n",
       "                                                   &#x27;UserReputation&#x27;,\n",
       "                                                   &#x27;ReplyCount&#x27;,\n",
       "                                                   &#x27;ThumbsUpCount&#x27;,\n",
       "                                                   &#x27;ThumbsDownCount&#x27;,\n",
       "                                                   &#x27;BestScore&#x27;, &#x27;Hour&#x27;])])),\n",
       "                (&#x27;scaler&#x27;, StandardScaler(with_mean=False)),\n",
       "                (&#x27;clsf&#x27;, LogisticRegression())])</pre></div></div></div><div class=\"sk-serial\"><div class=\"sk-item\"><div class=\"sk-serial\"><div class=\"sk-item\"><div class=\"sk-estimator sk-toggleable\"><input class=\"sk-toggleable__control sk-hidden--visually\" id=\"sk-estimator-id-3\" type=\"checkbox\" ><label for=\"sk-estimator-id-3\" class=\"sk-toggleable__label sk-toggleable__label-arrow\">SimpleImputer</label><div class=\"sk-toggleable__content\"><pre>SimpleImputer(fill_value=&#x27;No_Review&#x27;, strategy=&#x27;constant&#x27;)</pre></div></div></div><div class=\"sk-item sk-dashed-wrapped\"><div class=\"sk-label-container\"><div class=\"sk-label sk-toggleable\"><input class=\"sk-toggleable__control sk-hidden--visually\" id=\"sk-estimator-id-4\" type=\"checkbox\" ><label for=\"sk-estimator-id-4\" class=\"sk-toggleable__label sk-toggleable__label-arrow\">col_transform: ColumnTransformer</label><div class=\"sk-toggleable__content\"><pre>ColumnTransformer(transformers=[(&#x27;vect1&#x27;, CountVectorizer(stop_words=&#x27;english&#x27;),\n",
       "                                 &#x27;RecipeName&#x27;),\n",
       "                                (&#x27;vect2&#x27;, CountVectorizer(stop_words=&#x27;english&#x27;),\n",
       "                                 &#x27;Recipe_Review&#x27;),\n",
       "                                (&#x27;day&#x27;, OneHotEncoder(), [&#x27;Day&#x27;]),\n",
       "                                (&#x27;pass&#x27;, &#x27;passthrough&#x27;,\n",
       "                                 [&#x27;RecipeNumber&#x27;, &#x27;RecipeCode&#x27;,\n",
       "                                  &#x27;UserReputation&#x27;, &#x27;ReplyCount&#x27;,\n",
       "                                  &#x27;ThumbsUpCount&#x27;, &#x27;ThumbsDownCount&#x27;,\n",
       "                                  &#x27;BestScore&#x27;, &#x27;Hour&#x27;])])</pre></div></div></div><div class=\"sk-parallel\"><div class=\"sk-parallel-item\"><div class=\"sk-item\"><div class=\"sk-label-container\"><div class=\"sk-label sk-toggleable\"><input class=\"sk-toggleable__control sk-hidden--visually\" id=\"sk-estimator-id-5\" type=\"checkbox\" ><label for=\"sk-estimator-id-5\" class=\"sk-toggleable__label sk-toggleable__label-arrow\">vect1</label><div class=\"sk-toggleable__content\"><pre>RecipeName</pre></div></div></div><div class=\"sk-serial\"><div class=\"sk-item\"><div class=\"sk-estimator sk-toggleable\"><input class=\"sk-toggleable__control sk-hidden--visually\" id=\"sk-estimator-id-6\" type=\"checkbox\" ><label for=\"sk-estimator-id-6\" class=\"sk-toggleable__label sk-toggleable__label-arrow\">CountVectorizer</label><div class=\"sk-toggleable__content\"><pre>CountVectorizer(stop_words=&#x27;english&#x27;)</pre></div></div></div></div></div></div><div class=\"sk-parallel-item\"><div class=\"sk-item\"><div class=\"sk-label-container\"><div class=\"sk-label sk-toggleable\"><input class=\"sk-toggleable__control sk-hidden--visually\" id=\"sk-estimator-id-7\" type=\"checkbox\" ><label for=\"sk-estimator-id-7\" class=\"sk-toggleable__label sk-toggleable__label-arrow\">vect2</label><div class=\"sk-toggleable__content\"><pre>Recipe_Review</pre></div></div></div><div class=\"sk-serial\"><div class=\"sk-item\"><div class=\"sk-estimator sk-toggleable\"><input class=\"sk-toggleable__control sk-hidden--visually\" id=\"sk-estimator-id-8\" type=\"checkbox\" ><label for=\"sk-estimator-id-8\" class=\"sk-toggleable__label sk-toggleable__label-arrow\">CountVectorizer</label><div class=\"sk-toggleable__content\"><pre>CountVectorizer(stop_words=&#x27;english&#x27;)</pre></div></div></div></div></div></div><div class=\"sk-parallel-item\"><div class=\"sk-item\"><div class=\"sk-label-container\"><div class=\"sk-label sk-toggleable\"><input class=\"sk-toggleable__control sk-hidden--visually\" id=\"sk-estimator-id-9\" type=\"checkbox\" ><label for=\"sk-estimator-id-9\" class=\"sk-toggleable__label sk-toggleable__label-arrow\">day</label><div class=\"sk-toggleable__content\"><pre>[&#x27;Day&#x27;]</pre></div></div></div><div class=\"sk-serial\"><div class=\"sk-item\"><div class=\"sk-estimator sk-toggleable\"><input class=\"sk-toggleable__control sk-hidden--visually\" id=\"sk-estimator-id-10\" type=\"checkbox\" ><label for=\"sk-estimator-id-10\" class=\"sk-toggleable__label sk-toggleable__label-arrow\">OneHotEncoder</label><div class=\"sk-toggleable__content\"><pre>OneHotEncoder()</pre></div></div></div></div></div></div><div class=\"sk-parallel-item\"><div class=\"sk-item\"><div class=\"sk-label-container\"><div class=\"sk-label sk-toggleable\"><input class=\"sk-toggleable__control sk-hidden--visually\" id=\"sk-estimator-id-11\" type=\"checkbox\" ><label for=\"sk-estimator-id-11\" class=\"sk-toggleable__label sk-toggleable__label-arrow\">pass</label><div class=\"sk-toggleable__content\"><pre>[&#x27;RecipeNumber&#x27;, &#x27;RecipeCode&#x27;, &#x27;UserReputation&#x27;, &#x27;ReplyCount&#x27;, &#x27;ThumbsUpCount&#x27;, &#x27;ThumbsDownCount&#x27;, &#x27;BestScore&#x27;, &#x27;Hour&#x27;]</pre></div></div></div><div class=\"sk-serial\"><div class=\"sk-item\"><div class=\"sk-estimator sk-toggleable\"><input class=\"sk-toggleable__control sk-hidden--visually\" id=\"sk-estimator-id-12\" type=\"checkbox\" ><label for=\"sk-estimator-id-12\" class=\"sk-toggleable__label sk-toggleable__label-arrow\">passthrough</label><div class=\"sk-toggleable__content\"><pre>passthrough</pre></div></div></div></div></div></div></div></div><div class=\"sk-item\"><div class=\"sk-estimator sk-toggleable\"><input class=\"sk-toggleable__control sk-hidden--visually\" id=\"sk-estimator-id-13\" type=\"checkbox\" ><label for=\"sk-estimator-id-13\" class=\"sk-toggleable__label sk-toggleable__label-arrow\">StandardScaler</label><div class=\"sk-toggleable__content\"><pre>StandardScaler(with_mean=False)</pre></div></div></div><div class=\"sk-item\"><div class=\"sk-estimator sk-toggleable\"><input class=\"sk-toggleable__control sk-hidden--visually\" id=\"sk-estimator-id-14\" type=\"checkbox\" ><label for=\"sk-estimator-id-14\" class=\"sk-toggleable__label sk-toggleable__label-arrow\">LogisticRegression</label><div class=\"sk-toggleable__content\"><pre>LogisticRegression()</pre></div></div></div></div></div></div></div></div></div></div></div></div>"
      ],
      "text/plain": [
       "GridSearchCV(cv=4, error_score=0,\n",
       "             estimator=Pipeline(steps=[('imputer',\n",
       "                                        SimpleImputer(fill_value='No_Review',\n",
       "                                                      strategy='constant')),\n",
       "                                       ('col_transform',\n",
       "                                        ColumnTransformer(transformers=[('vect1',\n",
       "                                                                         CountVectorizer(stop_words='english'),\n",
       "                                                                         'RecipeName'),\n",
       "                                                                        ('vect2',\n",
       "                                                                         CountVectorizer(stop_words='english'),\n",
       "                                                                         'Recipe_Review'),\n",
       "                                                                        ('day',\n",
       "                                                                         OneHotEncoder(),\n",
       "                                                                         ['Day']),\n",
       "                                                                        ('pass',\n",
       "                                                                         'passthr...\n",
       "                                                                          'ThumbsDownCount',\n",
       "                                                                          'BestScore',\n",
       "                                                                          'Hour'])])),\n",
       "                                       ('scaler',\n",
       "                                        StandardScaler(with_mean=False)),\n",
       "                                       ('clsf', LogisticRegression())]),\n",
       "             n_jobs=-1,\n",
       "             param_grid={'clsf__C': [0.01, 0.1, 0.2, 0.5, 0.8, 1],\n",
       "                         'clsf__l1_ratio': [0, 0.2, 0.5, 0.8, 1],\n",
       "                         'clsf__max_iter': [30, 50, 100, 150],\n",
       "                         'clsf__penalty': ['elasticnet'],\n",
       "                         'clsf__solver': ['saga'],\n",
       "                         'col_transform__vect2__max_features': [50, 100, 500,\n",
       "                                                                1000]})"
      ]
     },
     "execution_count": 21,
     "metadata": {},
     "output_type": "execute_result"
    }
   ],
   "source": [
    "gscv=GridSearchCV(log_reg_pipeline, {'clsf__penalty': ['elasticnet'],\n",
    "                                     'clsf__C': [0.01, 0.1, 0.2, 0.5, 0.8, 1],\n",
    "                                     'clsf__solver': ['saga'],\n",
    "                                     'clsf__max_iter': [30, 50, 100, 150],\n",
    "                                     'clsf__l1_ratio': [0, 0.2, 0.5, 0.8, 1],\n",
    "                                     'col_transform__vect2__max_features': [50, 100, 500, 1000]},\n",
    "                                     cv=4, n_jobs=-1, error_score=0)\n",
    "gscv.fit(X_train, y_train)"
   ]
  },
  {
   "cell_type": "code",
   "execution_count": 22,
   "metadata": {},
   "outputs": [
    {
     "data": {
      "text/plain": [
       "{'clsf__C': 0.01,\n",
       " 'clsf__l1_ratio': 0.2,\n",
       " 'clsf__max_iter': 50,\n",
       " 'clsf__penalty': 'elasticnet',\n",
       " 'clsf__solver': 'saga',\n",
       " 'col_transform__vect2__max_features': 1000}"
      ]
     },
     "execution_count": 22,
     "metadata": {},
     "output_type": "execute_result"
    }
   ],
   "source": [
    "gscv.best_params_"
   ]
  },
  {
   "cell_type": "code",
   "execution_count": 23,
   "metadata": {},
   "outputs": [
    {
     "data": {
      "text/plain": [
       "0.8001613376356703"
      ]
     },
     "execution_count": 23,
     "metadata": {},
     "output_type": "execute_result"
    }
   ],
   "source": [
    "gscv.score(X_train, y_train)"
   ]
  },
  {
   "cell_type": "code",
   "execution_count": 25,
   "metadata": {},
   "outputs": [
    {
     "data": {
      "image/png": "[encoded data removed]",
      "text/plain": [
       "<Figure size 640x480 with 2 Axes>"
      ]
     },
     "metadata": {},
     "output_type": "display_data"
    }
   ],
   "source": [
    "ConfusionMatrixDisplay.from_estimator(gscv.best_estimator_, X_train, y_train)\n",
    "plt.grid(False)"
   ]
  },
  {
   "cell_type": "code",
   "execution_count": 121,
   "metadata": {},
   "outputs": [
    {
     "data": {
      "text/plain": [
       "0.7605602816075095"
      ]
     },
     "execution_count": 121,
     "metadata": {},
     "output_type": "execute_result"
    }
   ],
   "source": [
    "dummy=DummyClassifier()\n",
    "dummy.fit(X_train, y_train)\n",
    "dummy.score(X_train, y_train)"
   ]
  },
  {
   "cell_type": "code",
   "execution_count": 127,
   "metadata": {},
   "outputs": [
    {
     "data": {
      "image/png": "[encoded data removed]",
      "text/plain": [
       "<Figure size 640x480 with 2 Axes>"
      ]
     },
     "metadata": {},
     "output_type": "display_data"
    }
   ],
   "source": [
    "ConfusionMatrixDisplay.from_estimator(dummy, X_train, y_train)\n",
    "plt.grid(False)"
   ]
  },
  {
   "cell_type": "code",
   "execution_count": 130,
   "metadata": {},
   "outputs": [
    {
     "name": "stdout",
     "output_type": "stream",
     "text": [
      "              precision    recall  f1-score   support\n",
      "\n",
      "           0        nan      0.00       nan      1272\n",
      "           1        nan      0.00       nan       210\n",
      "           2        nan      0.00       nan       174\n",
      "           3        nan      0.00       nan       368\n",
      "           4        nan      0.00       nan      1241\n",
      "           5       0.76      1.00      0.86     10371\n",
      "\n",
      "    accuracy                           0.76     13636\n",
      "   macro avg       0.76      0.17      0.86     13636\n",
      "weighted avg       0.76      0.76      0.86     13636\n",
      "\n"
     ]
    }
   ],
   "source": [
    "print(classification_report(y_train, dummy.predict(X_train), zero_division=np.nan))"
   ]
  }
 ],
 "metadata": {
  "kernelspec": {
   "display_name": "Python 3",
   "language": "python",
   "name": "python3"
  },
  "language_info": {
   "codemirror_mode": {
    "name": "ipython",
    "version": 3
   },
   "file_extension": ".py",
   "mimetype": "text/x-python",
   "name": "python",
   "nbconvert_exporter": "python",
   "pygments_lexer": "ipython3",
   "version": "3.10.6"
  }
 },
 "nbformat": 4,
 "nbformat_minor": 2
}
